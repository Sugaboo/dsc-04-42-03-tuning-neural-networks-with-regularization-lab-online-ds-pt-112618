{
 "cells": [
  {
   "cell_type": "markdown",
   "metadata": {},
   "source": [
    "# Regularization and Optimization of Neural Networks - Lab"
   ]
  },
  {
   "cell_type": "markdown",
   "metadata": {},
   "source": [
    "## Introduction\n",
    "\n",
    "Recall from the last lab that we had a training accuracy close to 90% and a test set accuracy close to 76%.\n",
    "\n",
    "As with our previous machine learning work, we should be asking a couple of questions:\n",
    "- Is there a high bias? yes/no\n",
    "- Is there a high variance? yes/no\n",
    "\n",
    "Also recall that \"high bias\" is a relative concept. Knowing we have 7 classes and the topics are related, we'll assume that a 90% accuracy is pretty good and the bias on the training set is low. (We've also discussed concepts like precision, recall as well as AUC and ROC curves.)   \n",
    "\n",
    "In this lab, we'll use the notion of training/validation/test set to get better insights of how we can mitigate our variance, and we'll look at a few regularization techniques. You'll start by repeating the process from the last section: importing the data and performing preprocessing including one-hot encoding. Then, just before you go on to train the model, we'll introduce how to include a validation set. You'll then define and compile the model as before. This time, when you are presented with the `history` dictionary of the model, you will have additional data entries for not only the train and test, but the train, test and validation  and then defigning, compiling and training the model. \n",
    "\n",
    "\n",
    "## Objectives\n",
    "\n",
    "You will be able to:\n",
    "\n",
    "* Construct and run a basic model in Keras\n",
    "* Construct a validation set and explain potential benefits\n",
    "* Apply L1 and L2 regularization\n",
    "* Aplly dropout regularization\n",
    "* Observe and comment on the effect of using more data"
   ]
  },
  {
   "cell_type": "markdown",
   "metadata": {},
   "source": [
    "## Import the libraries\n",
    "\n",
    "As usual, start by importing some of the packages and modules that you intend to use. The first thing we'll be doing is importing the data and taking a random sample, so that should clue you in to what tools to import. If you need more tools down the line, you can always import additional packages later."
   ]
  },
  {
   "cell_type": "code",
   "execution_count": 1,
   "metadata": {},
   "outputs": [
    {
     "name": "stderr",
     "output_type": "stream",
     "text": [
      "Using TensorFlow backend.\n"
     ]
    }
   ],
   "source": [
    "#Your code here; import some packages/modules you plan to use\n",
    "import matplotlib.pyplot as plt\n",
    "import pandas as pd\n",
    "import numpy as np\n",
    "import random\n",
    "from sklearn.model_selection import train_test_split\n",
    "from keras.utils.np_utils import to_categorical\n",
    "from sklearn import preprocessing\n",
    "from keras.preprocessing.text import Tokenizer"
   ]
  },
  {
   "cell_type": "markdown",
   "metadata": {},
   "source": [
    "## Load the Data\n",
    "\n",
    "As with the previous lab, the data is stored in a file **Bank_complaints.csv**. Load and preview the dataset."
   ]
  },
  {
   "cell_type": "code",
   "execution_count": 2,
   "metadata": {},
   "outputs": [
    {
     "data": {
      "text/html": [
       "<div>\n",
       "<style scoped>\n",
       "    .dataframe tbody tr th:only-of-type {\n",
       "        vertical-align: middle;\n",
       "    }\n",
       "\n",
       "    .dataframe tbody tr th {\n",
       "        vertical-align: top;\n",
       "    }\n",
       "\n",
       "    .dataframe thead th {\n",
       "        text-align: right;\n",
       "    }\n",
       "</style>\n",
       "<table border=\"1\" class=\"dataframe\">\n",
       "  <thead>\n",
       "    <tr style=\"text-align: right;\">\n",
       "      <th></th>\n",
       "      <th>Product</th>\n",
       "      <th>Consumer complaint narrative</th>\n",
       "    </tr>\n",
       "  </thead>\n",
       "  <tbody>\n",
       "    <tr>\n",
       "      <th>0</th>\n",
       "      <td>Student loan</td>\n",
       "      <td>In XX/XX/XXXX I filled out the Fedlaon applica...</td>\n",
       "    </tr>\n",
       "    <tr>\n",
       "      <th>1</th>\n",
       "      <td>Student loan</td>\n",
       "      <td>I am being contacted by a debt collector for p...</td>\n",
       "    </tr>\n",
       "    <tr>\n",
       "      <th>2</th>\n",
       "      <td>Student loan</td>\n",
       "      <td>I cosigned XXXX student loans at SallieMae for...</td>\n",
       "    </tr>\n",
       "    <tr>\n",
       "      <th>3</th>\n",
       "      <td>Student loan</td>\n",
       "      <td>Navient has sytematically and illegally failed...</td>\n",
       "    </tr>\n",
       "    <tr>\n",
       "      <th>4</th>\n",
       "      <td>Student loan</td>\n",
       "      <td>My wife became eligible for XXXX Loan Forgiven...</td>\n",
       "    </tr>\n",
       "  </tbody>\n",
       "</table>\n",
       "</div>"
      ],
      "text/plain": [
       "        Product                       Consumer complaint narrative\n",
       "0  Student loan  In XX/XX/XXXX I filled out the Fedlaon applica...\n",
       "1  Student loan  I am being contacted by a debt collector for p...\n",
       "2  Student loan  I cosigned XXXX student loans at SallieMae for...\n",
       "3  Student loan  Navient has sytematically and illegally failed...\n",
       "4  Student loan  My wife became eligible for XXXX Loan Forgiven..."
      ]
     },
     "execution_count": 2,
     "metadata": {},
     "output_type": "execute_result"
    }
   ],
   "source": [
    "#Your code here; load and preview the dataset\n",
    "df = pd.read_csv('Bank_complaints.csv')\n",
    "df.head()"
   ]
  },
  {
   "cell_type": "markdown",
   "metadata": {},
   "source": [
    "## Preprocessing Overview\n",
    "\n",
    "Before we begin to practice some of our new tools regarding regularization and optimization, let's practice munging some data as we did in the previous section with bank complaints. Recall some techniques:\n",
    "\n",
    "* Sampling in order to reduce training time (investigate model accuracy vs data size later on)\n",
    "* One-hot encoding our complaint text\n",
    "* Transforming our category labels\n",
    "* Train - test split"
   ]
  },
  {
   "cell_type": "markdown",
   "metadata": {},
   "source": [
    "## Preprocessing: Generate a Random Sample\n",
    "\n",
    "Since we have quite a bit of data and training networks takes a substantial amount of time and resources, we will downsample in order to test our initial pipeline. Going forward, these can be interesting areas of investigation: how does our models performance change as we increase (or decrease) the size of our dataset?  \n",
    "\n",
    "Generate the random sample using seed 123 for consistency of results. Make your new sample have 10,000 observations."
   ]
  },
  {
   "cell_type": "code",
   "execution_count": 3,
   "metadata": {},
   "outputs": [],
   "source": [
    "#Your code here\n",
    "random.seed(123)\n",
    "df = df.sample(10000)\n",
    "df.index = range(10000)\n",
    "product = df[\"Product\"]\n",
    "complaints = df[\"Consumer complaint narrative\"]"
   ]
  },
  {
   "cell_type": "markdown",
   "metadata": {},
   "source": [
    "## Preprocessing: One-hot Encoding of the Complaints\n",
    "\n",
    "As before, we need to do some preprocessing and data manipulationg before building the neural network. Last time, we guided you through the process, and now its time for you to practice that pipeline independently.  \n",
    "\n",
    "Only keep 2,000 most common words and use one-hot encoding to reformat the complaints into a matrix of vectors."
   ]
  },
  {
   "cell_type": "code",
   "execution_count": 4,
   "metadata": {},
   "outputs": [
    {
     "data": {
      "text/plain": [
       "(10000, 2000)"
      ]
     },
     "execution_count": 4,
     "metadata": {},
     "output_type": "execute_result"
    }
   ],
   "source": [
    "#Your code here; use one-hot encoding to reformat the complaints into a matrix of vectors.\n",
    "#Only keep the 2000 most common words.\n",
    "\n",
    "tokenizer = Tokenizer(num_words=2000)\n",
    "tokenizer.fit_on_texts(complaints)\n",
    "\n",
    "one_hot_results= tokenizer.texts_to_matrix(complaints, mode='binary')\n",
    "word_index = tokenizer.word_index\n",
    "np.shape(one_hot_results)"
   ]
  },
  {
   "cell_type": "markdown",
   "metadata": {},
   "source": [
    "## Preprocessing: Encoding the Products\n",
    "\n",
    "Similarly, now transform the descriptive product labels to integers labels. After transforming them to integer labels, retransform them into a matrix of binary flags, one for each of the various product labels.  \n",
    "  \n",
    "  (Note: this is similar to our previous work with dummy variables: each of the various product categories will be its own column, and each observation will be a row. Each of these observation rows will have a 1 in the column associated with it's label, and all other entries for the row will be zero.)"
   ]
  },
  {
   "cell_type": "code",
   "execution_count": 5,
   "metadata": {},
   "outputs": [],
   "source": [
    "#Your code here; transform the product labels to numerical values\n",
    "#Then transform these integer values into a matrix of binary flags\n",
    "le = preprocessing.LabelEncoder()\n",
    "le.fit(product)\n",
    "product_cat = le.transform(product) \n",
    "\n",
    "#Then transform these integer values into a matrix of binary flags\n",
    "product_onehot = to_categorical(product_cat)"
   ]
  },
  {
   "cell_type": "markdown",
   "metadata": {},
   "source": [
    "## Train-test Split\n",
    "\n",
    "Now onto the ever familiar train-test split! Be sure to split both the complaint data (now transformed into word vectors) as well as their associated labels. Perform an appropriate train test split."
   ]
  },
  {
   "cell_type": "code",
   "execution_count": 6,
   "metadata": {},
   "outputs": [],
   "source": [
    "#Your code here\n",
    "X_train, X_test, y_train, y_test = train_test_split(one_hot_results, product_onehot, test_size=1500, random_state=42)"
   ]
  },
  {
   "cell_type": "markdown",
   "metadata": {},
   "source": [
    "## Running the model using a validation set."
   ]
  },
  {
   "cell_type": "markdown",
   "metadata": {},
   "source": [
    "## Creating the Validation Set"
   ]
  },
  {
   "cell_type": "markdown",
   "metadata": {},
   "source": [
    "In the lecture we mentioned that in deep learning, we generally keep aside a validation set, which is used during hyperparameter tuning. Then when we have made the final model decision, the test set is used to define the final model perforance. \n",
    "\n",
    "In this example, let's take the first 1000 cases out of the training set to become the validation set. You should do this for both `train` and `label_train`."
   ]
  },
  {
   "cell_type": "code",
   "execution_count": 7,
   "metadata": {},
   "outputs": [],
   "source": [
    "random.seed(123)\n",
    "val = X_train[:1000]\n",
    "train_final = X_train[1000:]\n",
    "label_val = y_train[:1000]\n",
    "label_train_final = y_train[1000:]"
   ]
  },
  {
   "cell_type": "markdown",
   "metadata": {},
   "source": [
    "## Creating the Model"
   ]
  },
  {
   "cell_type": "markdown",
   "metadata": {},
   "source": [
    "Let's rebuild a fully connected (Dense) layer network with relu activations in Keras."
   ]
  },
  {
   "cell_type": "markdown",
   "metadata": {},
   "source": [
    "Recall that we used 2 hidden with 50 units in the first layer and 25 in the second, both with a `relu` activation function. Because we are dealing with a multiclass problem (classifying the complaints into 7 classes), we use a use a softmax classifyer in order to output 7 class probabilities per case.  \n",
    "\n"
   ]
  },
  {
   "cell_type": "code",
   "execution_count": 8,
   "metadata": {},
   "outputs": [],
   "source": [
    "#Your code here; build a neural network using Keras as described above.\n",
    "random.seed(123)\n",
    "from keras import models\n",
    "from keras import layers\n",
    "model = models.Sequential()\n",
    "model.add(layers.Dense(50, activation='relu', input_shape=(2000,))) #2 hidden layers\n",
    "model.add(layers.Dense(25, activation='relu'))\n",
    "model.add(layers.Dense(7, activation='softmax'))"
   ]
  },
  {
   "cell_type": "markdown",
   "metadata": {},
   "source": [
    "## Compiling the Model\n",
    "In the compiler, you'll be passing the optimizer, loss function, and metrics. Train the model for 120 epochs in mini-batches of 256 samples. This time, let's include the argument `validation_data` and assign it `(val, label_val)`"
   ]
  },
  {
   "cell_type": "code",
   "execution_count": 9,
   "metadata": {},
   "outputs": [],
   "source": [
    "#Your code here\n",
    "model.compile(optimizer='SGD',\n",
    "              loss='categorical_crossentropy',\n",
    "              metrics=['accuracy'])"
   ]
  },
  {
   "cell_type": "markdown",
   "metadata": {},
   "source": [
    "## Part 2: Code Along\n",
    "\n",
    "The remaining portion of this lab will introduce you to code snippets for a myriad of different methods discussed in the lecture."
   ]
  },
  {
   "cell_type": "markdown",
   "metadata": {},
   "source": [
    "## Training the Model\n",
    "\n",
    "Ok, now for the resource intensive part: time to train our model! Note that this is where we also introduce the validation data to the model."
   ]
  },
  {
   "cell_type": "code",
   "execution_count": 10,
   "metadata": {},
   "outputs": [
    {
     "name": "stdout",
     "output_type": "stream",
     "text": [
      "Train on 7500 samples, validate on 1000 samples\n",
      "Epoch 1/120\n",
      "7500/7500 [==============================] - 1s 93us/step - loss: 1.9465 - acc: 0.1513 - val_loss: 1.9368 - val_acc: 0.1730\n",
      "Epoch 2/120\n",
      "7500/7500 [==============================] - 1s 71us/step - loss: 1.9256 - acc: 0.1815 - val_loss: 1.9174 - val_acc: 0.1900\n",
      "Epoch 3/120\n",
      "7500/7500 [==============================] - 1s 85us/step - loss: 1.9060 - acc: 0.2015 - val_loss: 1.8966 - val_acc: 0.2060\n",
      "Epoch 4/120\n",
      "7500/7500 [==============================] - 1s 83us/step - loss: 1.8844 - acc: 0.2159 - val_loss: 1.8741 - val_acc: 0.2170\n",
      "Epoch 5/120\n",
      "7500/7500 [==============================] - 0s 66us/step - loss: 1.8598 - acc: 0.2323 - val_loss: 1.8476 - val_acc: 0.2260\n",
      "Epoch 6/120\n",
      "7500/7500 [==============================] - 0s 66us/step - loss: 1.8321 - acc: 0.2496 - val_loss: 1.8190 - val_acc: 0.2460\n",
      "Epoch 7/120\n",
      "7500/7500 [==============================] - 1s 86us/step - loss: 1.8013 - acc: 0.2707 - val_loss: 1.7869 - val_acc: 0.2770\n",
      "Epoch 8/120\n",
      "7500/7500 [==============================] - 0s 66us/step - loss: 1.7676 - acc: 0.3000 - val_loss: 1.7521 - val_acc: 0.3100\n",
      "Epoch 9/120\n",
      "7500/7500 [==============================] - 0s 64us/step - loss: 1.7308 - acc: 0.3369 - val_loss: 1.7138 - val_acc: 0.3440\n",
      "Epoch 10/120\n",
      "7500/7500 [==============================] - 0s 62us/step - loss: 1.6910 - acc: 0.3685 - val_loss: 1.6735 - val_acc: 0.3810\n",
      "Epoch 11/120\n",
      "7500/7500 [==============================] - 0s 63us/step - loss: 1.6481 - acc: 0.4033 - val_loss: 1.6301 - val_acc: 0.4080\n",
      "Epoch 12/120\n",
      "7500/7500 [==============================] - 0s 62us/step - loss: 1.6028 - acc: 0.4339 - val_loss: 1.5846 - val_acc: 0.4410\n",
      "Epoch 13/120\n",
      "7500/7500 [==============================] - 0s 62us/step - loss: 1.5551 - acc: 0.4719 - val_loss: 1.5371 - val_acc: 0.4620\n",
      "Epoch 14/120\n",
      "7500/7500 [==============================] - 1s 68us/step - loss: 1.5059 - acc: 0.4941 - val_loss: 1.4884 - val_acc: 0.4880\n",
      "Epoch 15/120\n",
      "7500/7500 [==============================] - 0s 64us/step - loss: 1.4554 - acc: 0.5176 - val_loss: 1.4396 - val_acc: 0.5060\n",
      "Epoch 16/120\n",
      "7500/7500 [==============================] - 1s 72us/step - loss: 1.4051 - acc: 0.5387 - val_loss: 1.3906 - val_acc: 0.5350\n",
      "Epoch 17/120\n",
      "7500/7500 [==============================] - 1s 72us/step - loss: 1.3549 - acc: 0.5616 - val_loss: 1.3426 - val_acc: 0.5480\n",
      "Epoch 18/120\n",
      "7500/7500 [==============================] - 0s 64us/step - loss: 1.3062 - acc: 0.5833 - val_loss: 1.2978 - val_acc: 0.5550\n",
      "Epoch 19/120\n",
      "7500/7500 [==============================] - 0s 62us/step - loss: 1.2590 - acc: 0.6013 - val_loss: 1.2531 - val_acc: 0.5730\n",
      "Epoch 20/120\n",
      "7500/7500 [==============================] - 0s 59us/step - loss: 1.2136 - acc: 0.6135 - val_loss: 1.2120 - val_acc: 0.5880\n",
      "Epoch 21/120\n",
      "7500/7500 [==============================] - 0s 65us/step - loss: 1.1704 - acc: 0.6333 - val_loss: 1.1743 - val_acc: 0.5890\n",
      "Epoch 22/120\n",
      "7500/7500 [==============================] - 0s 62us/step - loss: 1.1302 - acc: 0.6453 - val_loss: 1.1375 - val_acc: 0.6070\n",
      "Epoch 23/120\n",
      "7500/7500 [==============================] - 0s 62us/step - loss: 1.0921 - acc: 0.6572 - val_loss: 1.1038 - val_acc: 0.6230\n",
      "Epoch 24/120\n",
      "7500/7500 [==============================] - 0s 62us/step - loss: 1.0564 - acc: 0.6739 - val_loss: 1.0719 - val_acc: 0.6350\n",
      "Epoch 25/120\n",
      "7500/7500 [==============================] - 0s 64us/step - loss: 1.0231 - acc: 0.6833 - val_loss: 1.0417 - val_acc: 0.6480\n",
      "Epoch 26/120\n",
      "7500/7500 [==============================] - 0s 63us/step - loss: 0.9920 - acc: 0.6924 - val_loss: 1.0142 - val_acc: 0.6600\n",
      "Epoch 27/120\n",
      "7500/7500 [==============================] - 1s 82us/step - loss: 0.9630 - acc: 0.6992 - val_loss: 0.9900 - val_acc: 0.6670\n",
      "Epoch 28/120\n",
      "7500/7500 [==============================] - 1s 74us/step - loss: 0.9363 - acc: 0.7049 - val_loss: 0.9659 - val_acc: 0.6780\n",
      "Epoch 29/120\n",
      "7500/7500 [==============================] - 1s 68us/step - loss: 0.9120 - acc: 0.7127 - val_loss: 0.9472 - val_acc: 0.6780\n",
      "Epoch 30/120\n",
      "7500/7500 [==============================] - 1s 68us/step - loss: 0.8884 - acc: 0.7181 - val_loss: 0.9254 - val_acc: 0.6910\n",
      "Epoch 31/120\n",
      "7500/7500 [==============================] - 0s 62us/step - loss: 0.8669 - acc: 0.7219 - val_loss: 0.9066 - val_acc: 0.6920\n",
      "Epoch 32/120\n",
      "7500/7500 [==============================] - 1s 67us/step - loss: 0.8467 - acc: 0.7265 - val_loss: 0.8956 - val_acc: 0.6920\n",
      "Epoch 33/120\n",
      "7500/7500 [==============================] - 1s 79us/step - loss: 0.8282 - acc: 0.7304 - val_loss: 0.8762 - val_acc: 0.6920\n",
      "Epoch 34/120\n",
      "7500/7500 [==============================] - 0s 65us/step - loss: 0.8107 - acc: 0.7340 - val_loss: 0.8603 - val_acc: 0.7010\n",
      "Epoch 35/120\n",
      "7500/7500 [==============================] - 0s 61us/step - loss: 0.7942 - acc: 0.7396 - val_loss: 0.8495 - val_acc: 0.7030\n",
      "Epoch 36/120\n",
      "7500/7500 [==============================] - 0s 59us/step - loss: 0.7795 - acc: 0.7417 - val_loss: 0.8361 - val_acc: 0.7030\n",
      "Epoch 37/120\n",
      "7500/7500 [==============================] - 0s 62us/step - loss: 0.7646 - acc: 0.7488 - val_loss: 0.8228 - val_acc: 0.7000\n",
      "Epoch 38/120\n",
      "7500/7500 [==============================] - 0s 61us/step - loss: 0.7509 - acc: 0.7515 - val_loss: 0.8132 - val_acc: 0.7030\n",
      "Epoch 39/120\n",
      "7500/7500 [==============================] - 1s 76us/step - loss: 0.7382 - acc: 0.7545 - val_loss: 0.8044 - val_acc: 0.7020\n",
      "Epoch 40/120\n",
      "7500/7500 [==============================] - 1s 71us/step - loss: 0.7262 - acc: 0.7591 - val_loss: 0.7970 - val_acc: 0.7060\n",
      "Epoch 41/120\n",
      "7500/7500 [==============================] - 0s 59us/step - loss: 0.7151 - acc: 0.7596 - val_loss: 0.7892 - val_acc: 0.7060\n",
      "Epoch 42/120\n",
      "7500/7500 [==============================] - 0s 59us/step - loss: 0.7042 - acc: 0.7631 - val_loss: 0.7771 - val_acc: 0.7080\n",
      "Epoch 43/120\n",
      "7500/7500 [==============================] - 0s 62us/step - loss: 0.6942 - acc: 0.7680 - val_loss: 0.7713 - val_acc: 0.7140\n",
      "Epoch 44/120\n",
      "7500/7500 [==============================] - 0s 60us/step - loss: 0.6840 - acc: 0.7673 - val_loss: 0.7620 - val_acc: 0.7210\n",
      "Epoch 45/120\n",
      "7500/7500 [==============================] - 0s 61us/step - loss: 0.6746 - acc: 0.7717 - val_loss: 0.7593 - val_acc: 0.7090\n",
      "Epoch 46/120\n",
      "7500/7500 [==============================] - 0s 61us/step - loss: 0.6659 - acc: 0.7764 - val_loss: 0.7497 - val_acc: 0.7170\n",
      "Epoch 47/120\n",
      "7500/7500 [==============================] - 0s 60us/step - loss: 0.6575 - acc: 0.7763 - val_loss: 0.7461 - val_acc: 0.7220\n",
      "Epoch 48/120\n",
      "7500/7500 [==============================] - 0s 61us/step - loss: 0.6493 - acc: 0.7797 - val_loss: 0.7408 - val_acc: 0.7210\n",
      "Epoch 49/120\n",
      "7500/7500 [==============================] - 0s 62us/step - loss: 0.6415 - acc: 0.7804 - val_loss: 0.7334 - val_acc: 0.7220\n",
      "Epoch 50/120\n",
      "7500/7500 [==============================] - 0s 59us/step - loss: 0.6342 - acc: 0.7819 - val_loss: 0.7308 - val_acc: 0.7250\n",
      "Epoch 51/120\n",
      "7500/7500 [==============================] - 0s 63us/step - loss: 0.6273 - acc: 0.7851 - val_loss: 0.7235 - val_acc: 0.7230\n",
      "Epoch 52/120\n",
      "7500/7500 [==============================] - 0s 61us/step - loss: 0.6202 - acc: 0.7872 - val_loss: 0.7209 - val_acc: 0.7320\n",
      "Epoch 53/120\n",
      "7500/7500 [==============================] - 0s 62us/step - loss: 0.6134 - acc: 0.7913 - val_loss: 0.7147 - val_acc: 0.7280\n",
      "Epoch 54/120\n",
      "7500/7500 [==============================] - 0s 56us/step - loss: 0.6072 - acc: 0.7924 - val_loss: 0.7103 - val_acc: 0.7330\n",
      "Epoch 55/120\n",
      "7500/7500 [==============================] - 0s 60us/step - loss: 0.6005 - acc: 0.7948 - val_loss: 0.7085 - val_acc: 0.7290\n",
      "Epoch 56/120\n",
      "7500/7500 [==============================] - 0s 61us/step - loss: 0.5946 - acc: 0.7963 - val_loss: 0.7065 - val_acc: 0.7430\n",
      "Epoch 57/120\n",
      "7500/7500 [==============================] - 0s 60us/step - loss: 0.5890 - acc: 0.7968 - val_loss: 0.7021 - val_acc: 0.7400\n",
      "Epoch 58/120\n",
      "7500/7500 [==============================] - 0s 61us/step - loss: 0.5830 - acc: 0.8008 - val_loss: 0.6988 - val_acc: 0.7350\n",
      "Epoch 59/120\n",
      "7500/7500 [==============================] - 0s 60us/step - loss: 0.5776 - acc: 0.8015 - val_loss: 0.6980 - val_acc: 0.7400\n",
      "Epoch 60/120\n"
     ]
    },
    {
     "name": "stdout",
     "output_type": "stream",
     "text": [
      "7500/7500 [==============================] - 0s 64us/step - loss: 0.5726 - acc: 0.8033 - val_loss: 0.6929 - val_acc: 0.7460\n",
      "Epoch 61/120\n",
      "7500/7500 [==============================] - 0s 64us/step - loss: 0.5672 - acc: 0.8045 - val_loss: 0.6922 - val_acc: 0.7540\n",
      "Epoch 62/120\n",
      "7500/7500 [==============================] - 1s 68us/step - loss: 0.5617 - acc: 0.8056 - val_loss: 0.6898 - val_acc: 0.7440\n",
      "Epoch 63/120\n",
      "7500/7500 [==============================] - 0s 65us/step - loss: 0.5570 - acc: 0.8092 - val_loss: 0.6902 - val_acc: 0.7520\n",
      "Epoch 64/120\n",
      "7500/7500 [==============================] - 0s 66us/step - loss: 0.5527 - acc: 0.8099 - val_loss: 0.6833 - val_acc: 0.7480\n",
      "Epoch 65/120\n",
      "7500/7500 [==============================] - 0s 64us/step - loss: 0.5474 - acc: 0.8125 - val_loss: 0.6822 - val_acc: 0.7440\n",
      "Epoch 66/120\n",
      "7500/7500 [==============================] - 1s 67us/step - loss: 0.5427 - acc: 0.8125 - val_loss: 0.6848 - val_acc: 0.7420\n",
      "Epoch 67/120\n",
      "7500/7500 [==============================] - 0s 65us/step - loss: 0.5388 - acc: 0.8123 - val_loss: 0.6780 - val_acc: 0.7470\n",
      "Epoch 68/120\n",
      "7500/7500 [==============================] - 1s 68us/step - loss: 0.5339 - acc: 0.8167 - val_loss: 0.6770 - val_acc: 0.7500\n",
      "Epoch 69/120\n",
      "7500/7500 [==============================] - 1s 69us/step - loss: 0.5297 - acc: 0.8165 - val_loss: 0.6740 - val_acc: 0.7530\n",
      "Epoch 70/120\n",
      "7500/7500 [==============================] - 0s 64us/step - loss: 0.5256 - acc: 0.8197 - val_loss: 0.6754 - val_acc: 0.7550\n",
      "Epoch 71/120\n",
      "7500/7500 [==============================] - 1s 67us/step - loss: 0.5213 - acc: 0.8196 - val_loss: 0.6733 - val_acc: 0.7510\n",
      "Epoch 72/120\n",
      "7500/7500 [==============================] - 0s 65us/step - loss: 0.5173 - acc: 0.8249 - val_loss: 0.6695 - val_acc: 0.7540\n",
      "Epoch 73/120\n",
      "7500/7500 [==============================] - 0s 66us/step - loss: 0.5131 - acc: 0.8252 - val_loss: 0.6703 - val_acc: 0.7610\n",
      "Epoch 74/120\n",
      "7500/7500 [==============================] - 0s 65us/step - loss: 0.5091 - acc: 0.8264 - val_loss: 0.6676 - val_acc: 0.7570\n",
      "Epoch 75/120\n",
      "7500/7500 [==============================] - 0s 64us/step - loss: 0.5053 - acc: 0.8272 - val_loss: 0.6657 - val_acc: 0.7620\n",
      "Epoch 76/120\n",
      "7500/7500 [==============================] - 0s 61us/step - loss: 0.5011 - acc: 0.8289 - val_loss: 0.6626 - val_acc: 0.7620\n",
      "Epoch 77/120\n",
      "7500/7500 [==============================] - 0s 63us/step - loss: 0.4976 - acc: 0.8308 - val_loss: 0.6617 - val_acc: 0.7600\n",
      "Epoch 78/120\n",
      "7500/7500 [==============================] - 0s 64us/step - loss: 0.4937 - acc: 0.8329 - val_loss: 0.6633 - val_acc: 0.7600\n",
      "Epoch 79/120\n",
      "7500/7500 [==============================] - 0s 66us/step - loss: 0.4899 - acc: 0.8303 - val_loss: 0.6626 - val_acc: 0.7660\n",
      "Epoch 80/120\n",
      "7500/7500 [==============================] - 0s 64us/step - loss: 0.4869 - acc: 0.8347 - val_loss: 0.6594 - val_acc: 0.7630\n",
      "Epoch 81/120\n",
      "7500/7500 [==============================] - 0s 64us/step - loss: 0.4829 - acc: 0.8349 - val_loss: 0.6592 - val_acc: 0.7640\n",
      "Epoch 82/120\n",
      "7500/7500 [==============================] - 1s 67us/step - loss: 0.4796 - acc: 0.8365 - val_loss: 0.6618 - val_acc: 0.7640\n",
      "Epoch 83/120\n",
      "7500/7500 [==============================] - 0s 65us/step - loss: 0.4761 - acc: 0.8375 - val_loss: 0.6558 - val_acc: 0.7680\n",
      "Epoch 84/120\n",
      "7500/7500 [==============================] - 0s 65us/step - loss: 0.4725 - acc: 0.8388 - val_loss: 0.6562 - val_acc: 0.7650\n",
      "Epoch 85/120\n",
      "7500/7500 [==============================] - 0s 65us/step - loss: 0.4694 - acc: 0.8415 - val_loss: 0.6582 - val_acc: 0.7630\n",
      "Epoch 86/120\n",
      "7500/7500 [==============================] - 0s 65us/step - loss: 0.4655 - acc: 0.8423 - val_loss: 0.6569 - val_acc: 0.7720\n",
      "Epoch 87/120\n",
      "7500/7500 [==============================] - 0s 65us/step - loss: 0.4627 - acc: 0.8428 - val_loss: 0.6558 - val_acc: 0.7730\n",
      "Epoch 88/120\n",
      "7500/7500 [==============================] - 1s 67us/step - loss: 0.4596 - acc: 0.8436 - val_loss: 0.6555 - val_acc: 0.7740\n",
      "Epoch 89/120\n",
      "7500/7500 [==============================] - 0s 65us/step - loss: 0.4560 - acc: 0.8457 - val_loss: 0.6552 - val_acc: 0.7680\n",
      "Epoch 90/120\n",
      "7500/7500 [==============================] - 0s 65us/step - loss: 0.4524 - acc: 0.8485 - val_loss: 0.6544 - val_acc: 0.7660\n",
      "Epoch 91/120\n",
      "7500/7500 [==============================] - 0s 66us/step - loss: 0.4500 - acc: 0.8483 - val_loss: 0.6551 - val_acc: 0.7650\n",
      "Epoch 92/120\n",
      "7500/7500 [==============================] - 0s 63us/step - loss: 0.4472 - acc: 0.8489 - val_loss: 0.6523 - val_acc: 0.7670\n",
      "Epoch 93/120\n",
      "7500/7500 [==============================] - 0s 63us/step - loss: 0.4436 - acc: 0.8515 - val_loss: 0.6506 - val_acc: 0.7760\n",
      "Epoch 94/120\n",
      "7500/7500 [==============================] - 0s 66us/step - loss: 0.4400 - acc: 0.8512 - val_loss: 0.6529 - val_acc: 0.7690\n",
      "Epoch 95/120\n",
      "7500/7500 [==============================] - 0s 63us/step - loss: 0.4379 - acc: 0.8521 - val_loss: 0.6503 - val_acc: 0.7730\n",
      "Epoch 96/120\n",
      "7500/7500 [==============================] - 0s 64us/step - loss: 0.4348 - acc: 0.8532 - val_loss: 0.6496 - val_acc: 0.7760\n",
      "Epoch 97/120\n",
      "7500/7500 [==============================] - 0s 65us/step - loss: 0.4317 - acc: 0.8559 - val_loss: 0.6501 - val_acc: 0.7670\n",
      "Epoch 98/120\n",
      "7500/7500 [==============================] - 0s 66us/step - loss: 0.4288 - acc: 0.8571 - val_loss: 0.6471 - val_acc: 0.7720\n",
      "Epoch 99/120\n",
      "7500/7500 [==============================] - 0s 63us/step - loss: 0.4257 - acc: 0.8564 - val_loss: 0.6496 - val_acc: 0.7690\n",
      "Epoch 100/120\n",
      "7500/7500 [==============================] - 0s 64us/step - loss: 0.4229 - acc: 0.8612 - val_loss: 0.6486 - val_acc: 0.7720\n",
      "Epoch 101/120\n",
      "7500/7500 [==============================] - 0s 61us/step - loss: 0.4198 - acc: 0.8629 - val_loss: 0.6497 - val_acc: 0.7680\n",
      "Epoch 102/120\n",
      "7500/7500 [==============================] - 0s 62us/step - loss: 0.4172 - acc: 0.8621 - val_loss: 0.6499 - val_acc: 0.7700\n",
      "Epoch 103/120\n",
      "7500/7500 [==============================] - 0s 65us/step - loss: 0.4142 - acc: 0.8629 - val_loss: 0.6476 - val_acc: 0.7680\n",
      "Epoch 104/120\n",
      "7500/7500 [==============================] - 0s 62us/step - loss: 0.4116 - acc: 0.8637 - val_loss: 0.6477 - val_acc: 0.7690\n",
      "Epoch 105/120\n",
      "7500/7500 [==============================] - 0s 64us/step - loss: 0.4092 - acc: 0.8649 - val_loss: 0.6487 - val_acc: 0.7690\n",
      "Epoch 106/120\n",
      "7500/7500 [==============================] - 0s 64us/step - loss: 0.4065 - acc: 0.8649 - val_loss: 0.6479 - val_acc: 0.7640\n",
      "Epoch 107/120\n",
      "7500/7500 [==============================] - 0s 63us/step - loss: 0.4035 - acc: 0.8667 - val_loss: 0.6451 - val_acc: 0.7760\n",
      "Epoch 108/120\n",
      "7500/7500 [==============================] - 0s 62us/step - loss: 0.4009 - acc: 0.8683 - val_loss: 0.6515 - val_acc: 0.7640\n",
      "Epoch 109/120\n",
      "7500/7500 [==============================] - 0s 65us/step - loss: 0.3980 - acc: 0.8684 - val_loss: 0.6469 - val_acc: 0.7680\n",
      "Epoch 110/120\n",
      "7500/7500 [==============================] - 0s 66us/step - loss: 0.3956 - acc: 0.8684 - val_loss: 0.6496 - val_acc: 0.7660\n",
      "Epoch 111/120\n",
      "7500/7500 [==============================] - 0s 65us/step - loss: 0.3931 - acc: 0.8707 - val_loss: 0.6477 - val_acc: 0.7690\n",
      "Epoch 112/120\n",
      "7500/7500 [==============================] - 0s 63us/step - loss: 0.3903 - acc: 0.8720 - val_loss: 0.6461 - val_acc: 0.7660\n",
      "Epoch 113/120\n",
      "7500/7500 [==============================] - 0s 62us/step - loss: 0.3879 - acc: 0.8736 - val_loss: 0.6461 - val_acc: 0.7730\n",
      "Epoch 114/120\n",
      "7500/7500 [==============================] - 0s 61us/step - loss: 0.3851 - acc: 0.8737 - val_loss: 0.6496 - val_acc: 0.7640\n",
      "Epoch 115/120\n",
      "7500/7500 [==============================] - 0s 61us/step - loss: 0.3829 - acc: 0.8755 - val_loss: 0.6484 - val_acc: 0.7590\n",
      "Epoch 116/120\n",
      "7500/7500 [==============================] - 0s 63us/step - loss: 0.3806 - acc: 0.8763 - val_loss: 0.6487 - val_acc: 0.7660\n",
      "Epoch 117/120\n",
      "7500/7500 [==============================] - 0s 64us/step - loss: 0.3778 - acc: 0.8768 - val_loss: 0.6484 - val_acc: 0.7650\n",
      "Epoch 118/120\n",
      "7500/7500 [==============================] - 0s 65us/step - loss: 0.3752 - acc: 0.8781 - val_loss: 0.6437 - val_acc: 0.7710\n",
      "Epoch 119/120\n",
      "7500/7500 [==============================] - 0s 62us/step - loss: 0.3727 - acc: 0.8769 - val_loss: 0.6472 - val_acc: 0.7700\n"
     ]
    },
    {
     "name": "stdout",
     "output_type": "stream",
     "text": [
      "Epoch 120/120\n",
      "7500/7500 [==============================] - 1s 70us/step - loss: 0.3703 - acc: 0.8799 - val_loss: 0.6545 - val_acc: 0.7660\n"
     ]
    }
   ],
   "source": [
    "#Code provided; note the extra validation parameter passed.\n",
    "model_val = model.fit(train_final,\n",
    "                    label_train_final,\n",
    "                    epochs=120,\n",
    "                    batch_size=256,\n",
    "                    validation_data=(val, label_val))"
   ]
  },
  {
   "cell_type": "markdown",
   "metadata": {},
   "source": [
    "## Retrieving Performance Results: the `history` dictionary\n",
    "\n",
    "The dictionary `history` contains four entries this time: one per metric that was being monitored during training and during validation."
   ]
  },
  {
   "cell_type": "code",
   "execution_count": 11,
   "metadata": {},
   "outputs": [
    {
     "data": {
      "text/plain": [
       "dict_keys(['val_loss', 'val_acc', 'loss', 'acc'])"
      ]
     },
     "execution_count": 11,
     "metadata": {},
     "output_type": "execute_result"
    }
   ],
   "source": [
    "model_val_dict = model_val.history\n",
    "model_val_dict.keys()"
   ]
  },
  {
   "cell_type": "code",
   "execution_count": 12,
   "metadata": {},
   "outputs": [
    {
     "name": "stdout",
     "output_type": "stream",
     "text": [
      "7500/7500 [==============================] - 0s 59us/step\n"
     ]
    }
   ],
   "source": [
    "results_train = model.evaluate(train_final, label_train_final)"
   ]
  },
  {
   "cell_type": "code",
   "execution_count": 13,
   "metadata": {},
   "outputs": [
    {
     "name": "stdout",
     "output_type": "stream",
     "text": [
      "1500/1500 [==============================] - 0s 58us/step\n"
     ]
    }
   ],
   "source": [
    "results_test = model.evaluate(X_test, y_test)"
   ]
  },
  {
   "cell_type": "code",
   "execution_count": 14,
   "metadata": {},
   "outputs": [
    {
     "data": {
      "text/plain": [
       "[0.3725418945153554, 0.8748000000317891]"
      ]
     },
     "execution_count": 14,
     "metadata": {},
     "output_type": "execute_result"
    }
   ],
   "source": [
    "results_train"
   ]
  },
  {
   "cell_type": "code",
   "execution_count": 15,
   "metadata": {},
   "outputs": [
    {
     "data": {
      "text/plain": [
       "[0.5945104935963949, 0.7700000003178914]"
      ]
     },
     "execution_count": 15,
     "metadata": {},
     "output_type": "execute_result"
    }
   ],
   "source": [
    "results_test"
   ]
  },
  {
   "cell_type": "markdown",
   "metadata": {},
   "source": [
    "Note that the result isn't exactly the same as before. Note that this because the training set is slightly different! We remove 1000 instances for validation!"
   ]
  },
  {
   "cell_type": "markdown",
   "metadata": {},
   "source": [
    "## Plotting the Results"
   ]
  },
  {
   "cell_type": "markdown",
   "metadata": {},
   "source": [
    "Let's plot the result similarly to what we have done in the previous lab. This time though, let's include the training and the validation loss in the same plot. We'll do the same thing for the training and validation accuracy."
   ]
  },
  {
   "cell_type": "code",
   "execution_count": 16,
   "metadata": {},
   "outputs": [
    {
     "data": {
      "image/png": "[encoded data removed]",
      "text/plain": [
       "<Figure size 432x288 with 1 Axes>"
      ]
     },
     "metadata": {
      "needs_background": "light"
     },
     "output_type": "display_data"
    }
   ],
   "source": [
    "plt.clf()\n",
    "\n",
    "import matplotlib.pyplot as plt\n",
    "loss_values = model_val_dict['loss']\n",
    "val_loss_values = model_val_dict['val_loss']\n",
    "\n",
    "epochs = range(1, len(loss_values) + 1)\n",
    "plt.plot(epochs, loss_values, 'g', label='Training loss')\n",
    "plt.plot(epochs, val_loss_values, 'blue', label='Validation loss')\n",
    "\n",
    "plt.title('Training & validation loss')\n",
    "plt.xlabel('Epochs')\n",
    "plt.ylabel('Loss')\n",
    "plt.legend()\n",
    "plt.show()"
   ]
  },
  {
   "cell_type": "code",
   "execution_count": 17,
   "metadata": {},
   "outputs": [
    {
     "data": {
      "image/png": "[encoded data removed]",
      "text/plain": [
       "<Figure size 432x288 with 1 Axes>"
      ]
     },
     "metadata": {
      "needs_background": "light"
     },
     "output_type": "display_data"
    }
   ],
   "source": [
    "plt.clf()\n",
    "\n",
    "acc_values = model_val_dict['acc'] \n",
    "val_acc_values = model_val_dict['val_acc']\n",
    "\n",
    "plt.plot(epochs, acc_values, 'r', label='Training acc')\n",
    "plt.plot(epochs, val_acc_values, 'blue', label='Validation acc')\n",
    "plt.title('Training & validation accuracy')\n",
    "plt.xlabel('Epochs')\n",
    "plt.ylabel('Loss')\n",
    "plt.legend()\n",
    "plt.show()"
   ]
  },
  {
   "cell_type": "markdown",
   "metadata": {},
   "source": [
    "We observe an interesting pattern here: although the training accuracy keeps increasing when going through more epochs, and the training loss keeps decreasing, the validation accuracy and loss seem to be reaching a status quo around the 60th epoch. This means that we're actually **overfitting** to the train data when we do as many epochs as we were doing. Luckily, you learned how to tackle overfitting in the previous lecture! For starters, it does seem clear that we are training too long. So let's stop training at the 60th epoch first (so-called \"early stopping\") before we move to more advanced regularization techniques!"
   ]
  },
  {
   "cell_type": "markdown",
   "metadata": {},
   "source": [
    "## Early Stopping"
   ]
  },
  {
   "cell_type": "code",
   "execution_count": null,
   "metadata": {},
   "outputs": [
    {
     "name": "stdout",
     "output_type": "stream",
     "text": [
      "Train on 7500 samples, validate on 1000 samples\n",
      "Epoch 1/60\n",
      "7500/7500 [==============================] - 1s 98us/step - loss: 1.9413 - acc: 0.1651 - val_loss: 1.9271 - val_acc: 0.1790\n",
      "Epoch 2/60\n",
      "7500/7500 [==============================] - 1s 67us/step - loss: 1.9171 - acc: 0.1919 - val_loss: 1.9074 - val_acc: 0.2120\n",
      "Epoch 3/60\n",
      "7500/7500 [==============================] - 1s 69us/step - loss: 1.8985 - acc: 0.2145 - val_loss: 1.8898 - val_acc: 0.2330\n",
      "Epoch 4/60\n",
      "7500/7500 [==============================] - 0s 66us/step - loss: 1.8803 - acc: 0.2359 - val_loss: 1.8713 - val_acc: 0.2470\n",
      "Epoch 5/60\n",
      "7500/7500 [==============================] - 1s 67us/step - loss: 1.8597 - acc: 0.2576 - val_loss: 1.8494 - val_acc: 0.2720\n",
      "Epoch 6/60\n",
      "7500/7500 [==============================] - 1s 67us/step - loss: 1.8352 - acc: 0.2824 - val_loss: 1.8229 - val_acc: 0.2990\n",
      "Epoch 7/60\n",
      "7500/7500 [==============================] - 0s 65us/step - loss: 1.8059 - acc: 0.3065 - val_loss: 1.7924 - val_acc: 0.3200\n",
      "Epoch 8/60\n",
      "7500/7500 [==============================] - 0s 65us/step - loss: 1.7717 - acc: 0.3364 - val_loss: 1.7568 - val_acc: 0.3430\n",
      "Epoch 9/60\n",
      "7500/7500 [==============================] - 0s 65us/step - loss: 1.7324 - acc: 0.3577 - val_loss: 1.7163 - val_acc: 0.3680\n",
      "Epoch 10/60\n",
      "7500/7500 [==============================] - 0s 65us/step - loss: 1.6883 - acc: 0.3852 - val_loss: 1.6722 - val_acc: 0.4110\n",
      "Epoch 11/60\n",
      "7500/7500 [==============================] - 0s 65us/step - loss: 1.6407 - acc: 0.4167 - val_loss: 1.6250 - val_acc: 0.4300\n",
      "Epoch 12/60\n",
      "7500/7500 [==============================] - 0s 66us/step - loss: 1.5904 - acc: 0.4516 - val_loss: 1.5761 - val_acc: 0.4560\n",
      "Epoch 13/60\n",
      "7500/7500 [==============================] - 0s 66us/step - loss: 1.5382 - acc: 0.4805 - val_loss: 1.5257 - val_acc: 0.4710\n",
      "Epoch 14/60\n",
      "7500/7500 [==============================] - 1s 67us/step - loss: 1.4855 - acc: 0.5123 - val_loss: 1.4748 - val_acc: 0.4970\n",
      "Epoch 15/60\n",
      "7500/7500 [==============================] - 0s 65us/step - loss: 1.4324 - acc: 0.5403 - val_loss: 1.4248 - val_acc: 0.5280\n",
      "Epoch 16/60\n",
      "7500/7500 [==============================] - 0s 66us/step - loss: 1.3803 - acc: 0.5673 - val_loss: 1.3761 - val_acc: 0.5590\n",
      "Epoch 17/60\n",
      "7500/7500 [==============================] - 0s 67us/step - loss: 1.3294 - acc: 0.5952 - val_loss: 1.3293 - val_acc: 0.5620\n",
      "Epoch 18/60\n",
      "7500/7500 [==============================] - 0s 64us/step - loss: 1.2796 - acc: 0.6169 - val_loss: 1.2831 - val_acc: 0.5820\n",
      "Epoch 19/60\n",
      "7500/7500 [==============================] - 0s 65us/step - loss: 1.2325 - acc: 0.6321 - val_loss: 1.2389 - val_acc: 0.5960\n",
      "Epoch 20/60\n",
      "7500/7500 [==============================] - 0s 64us/step - loss: 1.1875 - acc: 0.6443 - val_loss: 1.1983 - val_acc: 0.6160\n",
      "Epoch 21/60\n",
      "7500/7500 [==============================] - 0s 66us/step - loss: 1.1453 - acc: 0.6592 - val_loss: 1.1579 - val_acc: 0.6310\n",
      "Epoch 22/60\n",
      "7500/7500 [==============================] - 0s 65us/step - loss: 1.1054 - acc: 0.6649 - val_loss: 1.1232 - val_acc: 0.6340\n",
      "Epoch 23/60\n",
      "7500/7500 [==============================] - 0s 64us/step - loss: 1.0681 - acc: 0.6736 - val_loss: 1.0873 - val_acc: 0.6430\n",
      "Epoch 24/60\n",
      "7500/7500 [==============================] - 0s 64us/step - loss: 1.0335 - acc: 0.6832 - val_loss: 1.0563 - val_acc: 0.6480\n",
      "Epoch 25/60\n",
      "7500/7500 [==============================] - 0s 63us/step - loss: 1.0013 - acc: 0.6917 - val_loss: 1.0278 - val_acc: 0.6600\n",
      "Epoch 26/60\n",
      "7500/7500 [==============================] - 0s 61us/step - loss: 0.9713 - acc: 0.6989 - val_loss: 1.0023 - val_acc: 0.6670\n",
      "Epoch 27/60\n",
      "7500/7500 [==============================] - 1s 67us/step - loss: 0.9436 - acc: 0.7041 - val_loss: 0.9742 - val_acc: 0.6680\n",
      "Epoch 28/60\n",
      "7500/7500 [==============================] - 0s 66us/step - loss: 0.9182 - acc: 0.7123 - val_loss: 0.9541 - val_acc: 0.6740\n",
      "Epoch 29/60\n",
      "7500/7500 [==============================] - 0s 62us/step - loss: 0.8942 - acc: 0.7168 - val_loss: 0.9319 - val_acc: 0.6760\n",
      "Epoch 30/60\n",
      "7500/7500 [==============================] - 0s 61us/step - loss: 0.8724 - acc: 0.7205 - val_loss: 0.9134 - val_acc: 0.6870\n",
      "Epoch 31/60\n",
      "7500/7500 [==============================] - 0s 61us/step - loss: 0.8521 - acc: 0.7233 - val_loss: 0.8936 - val_acc: 0.6920\n",
      "Epoch 32/60\n",
      "7500/7500 [==============================] - 0s 61us/step - loss: 0.8332 - acc: 0.7247 - val_loss: 0.8794 - val_acc: 0.6940\n",
      "Epoch 33/60\n",
      "7500/7500 [==============================] - 0s 61us/step - loss: 0.8150 - acc: 0.7313 - val_loss: 0.8634 - val_acc: 0.6940\n",
      "Epoch 34/60\n",
      "7500/7500 [==============================] - 0s 61us/step - loss: 0.7986 - acc: 0.7352 - val_loss: 0.8483 - val_acc: 0.7060\n",
      "Epoch 35/60\n",
      "7500/7500 [==============================] - 0s 61us/step - loss: 0.7832 - acc: 0.7417 - val_loss: 0.8352 - val_acc: 0.7030\n",
      "Epoch 36/60\n",
      "7500/7500 [==============================] - 0s 63us/step - loss: 0.7685 - acc: 0.7456 - val_loss: 0.8235 - val_acc: 0.7110\n",
      "Epoch 37/60\n",
      "7500/7500 [==============================] - 0s 62us/step - loss: 0.7548 - acc: 0.7452 - val_loss: 0.8142 - val_acc: 0.7090\n",
      "Epoch 38/60\n",
      "7500/7500 [==============================] - 0s 60us/step - loss: 0.7420 - acc: 0.7504 - val_loss: 0.8026 - val_acc: 0.7080\n",
      "Epoch 39/60\n",
      "7500/7500 [==============================] - 0s 62us/step - loss: 0.7298 - acc: 0.7531 - val_loss: 0.7941 - val_acc: 0.7150\n",
      "Epoch 40/60\n",
      "7500/7500 [==============================] - 0s 62us/step - loss: 0.7182 - acc: 0.7556 - val_loss: 0.7831 - val_acc: 0.7170\n",
      "Epoch 41/60\n",
      "7500/7500 [==============================] - 0s 59us/step - loss: 0.7074 - acc: 0.7589 - val_loss: 0.7765 - val_acc: 0.7190\n",
      "Epoch 42/60\n",
      "7500/7500 [==============================] - 0s 58us/step - loss: 0.6970 - acc: 0.7616 - val_loss: 0.7684 - val_acc: 0.7240\n",
      "Epoch 43/60\n",
      "7500/7500 [==============================] - 0s 60us/step - loss: 0.6866 - acc: 0.7636 - val_loss: 0.7605 - val_acc: 0.7250\n",
      "Epoch 44/60\n",
      "7500/7500 [==============================] - 0s 62us/step - loss: 0.6775 - acc: 0.7665 - val_loss: 0.7518 - val_acc: 0.7260\n",
      "Epoch 45/60\n",
      "7500/7500 [==============================] - 0s 60us/step - loss: 0.6686 - acc: 0.7695 - val_loss: 0.7452 - val_acc: 0.7270\n",
      "Epoch 46/60\n",
      "7500/7500 [==============================] - 0s 60us/step - loss: 0.6598 - acc: 0.7739 - val_loss: 0.7411 - val_acc: 0.7310\n",
      "Epoch 47/60\n",
      "7500/7500 [==============================] - 0s 62us/step - loss: 0.6514 - acc: 0.7755 - val_loss: 0.7361 - val_acc: 0.7320\n",
      "Epoch 48/60\n",
      "7500/7500 [==============================] - 0s 63us/step - loss: 0.6440 - acc: 0.7772 - val_loss: 0.7280 - val_acc: 0.7370\n",
      "Epoch 49/60\n",
      "7500/7500 [==============================] - 0s 64us/step - loss: 0.6365 - acc: 0.7800 - val_loss: 0.7243 - val_acc: 0.7360\n",
      "Epoch 50/60\n",
      "7500/7500 [==============================] - 0s 66us/step - loss: 0.6288 - acc: 0.7847 - val_loss: 0.7218 - val_acc: 0.7420\n",
      "Epoch 51/60\n",
      "7500/7500 [==============================] - 0s 58us/step - loss: 0.6221 - acc: 0.7867 - val_loss: 0.7149 - val_acc: 0.7370\n",
      "Epoch 52/60\n",
      "7500/7500 [==============================] - 0s 65us/step - loss: 0.6147 - acc: 0.7875 - val_loss: 0.7124 - val_acc: 0.7390\n",
      "Epoch 53/60\n",
      "7500/7500 [==============================] - 0s 59us/step - loss: 0.6088 - acc: 0.7884 - val_loss: 0.7048 - val_acc: 0.7400\n",
      "Epoch 54/60\n",
      "7500/7500 [==============================] - 0s 61us/step - loss: 0.6020 - acc: 0.7916 - val_loss: 0.7040 - val_acc: 0.7400\n",
      "Epoch 55/60\n",
      "7500/7500 [==============================] - 0s 61us/step - loss: 0.5958 - acc: 0.7936 - val_loss: 0.6982 - val_acc: 0.7420\n",
      "Epoch 56/60\n",
      "7500/7500 [==============================] - 0s 63us/step - loss: 0.5896 - acc: 0.7956 - val_loss: 0.6955 - val_acc: 0.7450\n",
      "Epoch 57/60\n",
      "7500/7500 [==============================] - 0s 62us/step - loss: 0.5839 - acc: 0.7960 - val_loss: 0.6920 - val_acc: 0.7490\n",
      "Epoch 58/60\n",
      "7500/7500 [==============================] - 0s 60us/step - loss: 0.5781 - acc: 0.8007 - val_loss: 0.6881 - val_acc: 0.7470\n",
      "Epoch 59/60\n",
      "7500/7500 [==============================] - 0s 61us/step - loss: 0.5726 - acc: 0.8039 - val_loss: 0.6867 - val_acc: 0.7460\n",
      "Epoch 60/60\n",
      "7500/7500 [==============================] - 0s 62us/step - loss: 0.5672 - acc: 0.8045 - val_loss: 0.6830 - val_acc: 0.7560\n"
     ]
    }
   ],
   "source": [
    "random.seed(123)\n",
    "model = models.Sequential()\n",
    "model.add(layers.Dense(50, activation='relu', input_shape=(2000,))) #2 hidden layers\n",
    "model.add(layers.Dense(25, activation='relu'))\n",
    "model.add(layers.Dense(7, activation='softmax'))\n",
    "\n",
    "model.compile(optimizer='SGD',\n",
    "              loss='categorical_crossentropy',\n",
    "              metrics=['accuracy'])\n",
    "\n",
    "final_model = model.fit(train_final,\n",
    "                    label_train_final,\n",
    "                    epochs=60,\n",
    "                    batch_size=256,\n",
    "                    validation_data=(val, label_val))"
   ]
  },
  {
   "cell_type": "markdown",
   "metadata": {},
   "source": [
    "Now, you can use the test set to make label predictions"
   ]
  },
  {
   "cell_type": "code",
   "execution_count": null,
   "metadata": {},
   "outputs": [
    {
     "name": "stdout",
     "output_type": "stream",
     "text": [
      "7500/7500 [==============================] - 0s 58us/step\n"
     ]
    }
   ],
   "source": [
    "results_train = model.evaluate(train_final, label_train_final)"
   ]
  },
  {
   "cell_type": "code",
   "execution_count": null,
   "metadata": {},
   "outputs": [
    {
     "name": "stdout",
     "output_type": "stream",
     "text": [
      "1500/1500 [==============================] - 0s 60us/step\n"
     ]
    }
   ],
   "source": [
    "results_test = model.evaluate(X_test, y_test)"
   ]
  },
  {
   "cell_type": "code",
   "execution_count": null,
   "metadata": {},
   "outputs": [
    {
     "data": {
      "text/plain": [
       "[0.5622495647112529, 0.8037333333015442]"
      ]
     },
     "execution_count": 21,
     "metadata": {},
     "output_type": "execute_result"
    }
   ],
   "source": [
    "results_train"
   ]
  },
  {
   "cell_type": "code",
   "execution_count": null,
   "metadata": {},
   "outputs": [
    {
     "data": {
      "text/plain": [
       "[0.649677710533142, 0.7580000003178914]"
      ]
     },
     "execution_count": 22,
     "metadata": {},
     "output_type": "execute_result"
    }
   ],
   "source": [
    "results_test"
   ]
  },
  {
   "cell_type": "markdown",
   "metadata": {},
   "source": [
    "We've significantly reduced the variance, so this is already pretty good! Our test set accuracy is slightly worse, but this model will definitely be more robust than the 120 epochs one we fitted before.\n",
    "\n",
    "Now, let's see what else we can do to improve the result!"
   ]
  },
  {
   "cell_type": "markdown",
   "metadata": {},
   "source": [
    "## L2 Regularization"
   ]
  },
  {
   "cell_type": "markdown",
   "metadata": {},
   "source": [
    "Let's include L2 regularization. You can easily do this in keras adding the argument kernel_regulizers.l2 and adding a value for the regularization parameter lambda between parentheses."
   ]
  },
  {
   "cell_type": "code",
   "execution_count": null,
   "metadata": {},
   "outputs": [
    {
     "name": "stdout",
     "output_type": "stream",
     "text": [
      "Train on 7500 samples, validate on 1000 samples\n",
      "Epoch 1/120\n",
      "7500/7500 [==============================] - 1s 105us/step - loss: 2.6029 - acc: 0.1567 - val_loss: 2.5887 - val_acc: 0.1830\n",
      "Epoch 2/120\n",
      "7500/7500 [==============================] - 1s 69us/step - loss: 2.5826 - acc: 0.1907 - val_loss: 2.5721 - val_acc: 0.2020\n",
      "Epoch 3/120\n",
      "7500/7500 [==============================] - 1s 69us/step - loss: 2.5663 - acc: 0.2057 - val_loss: 2.5571 - val_acc: 0.2170\n",
      "Epoch 4/120\n",
      "7500/7500 [==============================] - 1s 68us/step - loss: 2.5508 - acc: 0.2135 - val_loss: 2.5418 - val_acc: 0.2230\n",
      "Epoch 5/120\n",
      "7500/7500 [==============================] - 1s 69us/step - loss: 2.5341 - acc: 0.2209 - val_loss: 2.5246 - val_acc: 0.2270\n",
      "Epoch 6/120\n",
      "7500/7500 [==============================] - 0s 66us/step - loss: 2.5148 - acc: 0.2329 - val_loss: 2.5041 - val_acc: 0.2430\n",
      "Epoch 7/120\n",
      "7500/7500 [==============================] - 1s 67us/step - loss: 2.4911 - acc: 0.2461 - val_loss: 2.4788 - val_acc: 0.2590\n",
      "Epoch 8/120\n",
      "7500/7500 [==============================] - 0s 66us/step - loss: 2.4625 - acc: 0.2669 - val_loss: 2.4493 - val_acc: 0.2720\n",
      "Epoch 9/120\n",
      "7500/7500 [==============================] - 0s 66us/step - loss: 2.4303 - acc: 0.2915 - val_loss: 2.4172 - val_acc: 0.3000\n",
      "Epoch 10/120\n",
      "7500/7500 [==============================] - 0s 65us/step - loss: 2.3951 - acc: 0.3141 - val_loss: 2.3815 - val_acc: 0.3400\n",
      "Epoch 11/120\n",
      "7500/7500 [==============================] - 0s 66us/step - loss: 2.3568 - acc: 0.3491 - val_loss: 2.3431 - val_acc: 0.3560\n",
      "Epoch 12/120\n",
      "7500/7500 [==============================] - 1s 68us/step - loss: 2.3163 - acc: 0.3797 - val_loss: 2.3031 - val_acc: 0.3830\n",
      "Epoch 13/120\n",
      "7500/7500 [==============================] - 0s 65us/step - loss: 2.2743 - acc: 0.4112 - val_loss: 2.2622 - val_acc: 0.4000\n",
      "Epoch 14/120\n",
      "7500/7500 [==============================] - 0s 63us/step - loss: 2.2311 - acc: 0.4363 - val_loss: 2.2197 - val_acc: 0.4450\n",
      "Epoch 15/120\n",
      "7500/7500 [==============================] - 0s 66us/step - loss: 2.1866 - acc: 0.4672 - val_loss: 2.1773 - val_acc: 0.4570\n",
      "Epoch 16/120\n",
      "7500/7500 [==============================] - 0s 66us/step - loss: 2.1420 - acc: 0.4891 - val_loss: 2.1334 - val_acc: 0.4970\n",
      "Epoch 17/120\n",
      "7500/7500 [==============================] - 0s 65us/step - loss: 2.0968 - acc: 0.5224 - val_loss: 2.0919 - val_acc: 0.5140\n",
      "Epoch 18/120\n",
      "7500/7500 [==============================] - 0s 66us/step - loss: 2.0519 - acc: 0.5412 - val_loss: 2.0479 - val_acc: 0.5380\n",
      "Epoch 19/120\n",
      "7500/7500 [==============================] - 1s 68us/step - loss: 2.0066 - acc: 0.5641 - val_loss: 2.0040 - val_acc: 0.5580\n",
      "Epoch 20/120\n",
      "7500/7500 [==============================] - 0s 65us/step - loss: 1.9621 - acc: 0.5847 - val_loss: 1.9624 - val_acc: 0.5770\n",
      "Epoch 21/120\n",
      "7500/7500 [==============================] - 0s 65us/step - loss: 1.9185 - acc: 0.6048 - val_loss: 1.9212 - val_acc: 0.5890\n",
      "Epoch 22/120\n",
      "7500/7500 [==============================] - 0s 64us/step - loss: 1.8755 - acc: 0.6192 - val_loss: 1.8796 - val_acc: 0.6150\n",
      "Epoch 23/120\n",
      "7500/7500 [==============================] - 0s 66us/step - loss: 1.8332 - acc: 0.6353 - val_loss: 1.8405 - val_acc: 0.6240\n",
      "Epoch 24/120\n",
      "7500/7500 [==============================] - 0s 66us/step - loss: 1.7924 - acc: 0.6483 - val_loss: 1.8027 - val_acc: 0.6270\n",
      "Epoch 25/120\n",
      "7500/7500 [==============================] - 0s 65us/step - loss: 1.7534 - acc: 0.6537 - val_loss: 1.7661 - val_acc: 0.6350\n",
      "Epoch 26/120\n",
      "7500/7500 [==============================] - 0s 63us/step - loss: 1.7155 - acc: 0.6633 - val_loss: 1.7317 - val_acc: 0.6400\n",
      "Epoch 27/120\n",
      "7500/7500 [==============================] - 0s 64us/step - loss: 1.6801 - acc: 0.6707 - val_loss: 1.7006 - val_acc: 0.6480\n",
      "Epoch 28/120\n",
      "7500/7500 [==============================] - 0s 64us/step - loss: 1.6461 - acc: 0.6789 - val_loss: 1.6688 - val_acc: 0.6560\n",
      "Epoch 29/120\n",
      "7500/7500 [==============================] - 0s 65us/step - loss: 1.6144 - acc: 0.6885 - val_loss: 1.6402 - val_acc: 0.6610\n",
      "Epoch 30/120\n",
      "7500/7500 [==============================] - 0s 65us/step - loss: 1.5846 - acc: 0.6948 - val_loss: 1.6143 - val_acc: 0.6690\n",
      "Epoch 31/120\n",
      "7500/7500 [==============================] - 0s 63us/step - loss: 1.5570 - acc: 0.7005 - val_loss: 1.5891 - val_acc: 0.6750\n",
      "Epoch 32/120\n",
      "7500/7500 [==============================] - 0s 66us/step - loss: 1.5310 - acc: 0.7049 - val_loss: 1.5667 - val_acc: 0.6720\n",
      "Epoch 33/120\n",
      "7500/7500 [==============================] - 0s 63us/step - loss: 1.5067 - acc: 0.7123 - val_loss: 1.5456 - val_acc: 0.6720\n",
      "Epoch 34/120\n",
      "7500/7500 [==============================] - 0s 63us/step - loss: 1.4841 - acc: 0.7153 - val_loss: 1.5250 - val_acc: 0.6810\n",
      "Epoch 35/120\n",
      "7500/7500 [==============================] - 0s 63us/step - loss: 1.4630 - acc: 0.7191 - val_loss: 1.5090 - val_acc: 0.6810\n",
      "Epoch 36/120\n",
      "7500/7500 [==============================] - 0s 65us/step - loss: 1.4430 - acc: 0.7228 - val_loss: 1.4905 - val_acc: 0.6870\n",
      "Epoch 37/120\n",
      "7500/7500 [==============================] - 0s 61us/step - loss: 1.4239 - acc: 0.7263 - val_loss: 1.4737 - val_acc: 0.6960\n",
      "Epoch 38/120\n",
      "7500/7500 [==============================] - 0s 62us/step - loss: 1.4069 - acc: 0.7304 - val_loss: 1.4586 - val_acc: 0.6950\n",
      "Epoch 39/120\n",
      "7500/7500 [==============================] - 0s 61us/step - loss: 1.3901 - acc: 0.7329 - val_loss: 1.4455 - val_acc: 0.6980\n",
      "Epoch 40/120\n",
      "7500/7500 [==============================] - 0s 64us/step - loss: 1.3743 - acc: 0.7377 - val_loss: 1.4331 - val_acc: 0.7010\n",
      "Epoch 41/120\n",
      "7500/7500 [==============================] - 0s 62us/step - loss: 1.3598 - acc: 0.7396 - val_loss: 1.4207 - val_acc: 0.7010\n",
      "Epoch 42/120\n",
      "7500/7500 [==============================] - 0s 63us/step - loss: 1.3452 - acc: 0.7460 - val_loss: 1.4071 - val_acc: 0.7110\n",
      "Epoch 43/120\n",
      "7500/7500 [==============================] - 0s 62us/step - loss: 1.3322 - acc: 0.7475 - val_loss: 1.3975 - val_acc: 0.7090\n",
      "Epoch 44/120\n",
      "7500/7500 [==============================] - 0s 62us/step - loss: 1.3195 - acc: 0.7487 - val_loss: 1.3889 - val_acc: 0.7130\n",
      "Epoch 45/120\n",
      "7500/7500 [==============================] - 0s 61us/step - loss: 1.3074 - acc: 0.7525 - val_loss: 1.3781 - val_acc: 0.7080\n",
      "Epoch 46/120\n",
      "7500/7500 [==============================] - 0s 61us/step - loss: 1.2953 - acc: 0.7568 - val_loss: 1.3679 - val_acc: 0.7180\n",
      "Epoch 47/120\n",
      "7500/7500 [==============================] - 0s 63us/step - loss: 1.2844 - acc: 0.7591 - val_loss: 1.3596 - val_acc: 0.7190\n",
      "Epoch 48/120\n",
      "7500/7500 [==============================] - 0s 60us/step - loss: 1.2736 - acc: 0.7612 - val_loss: 1.3522 - val_acc: 0.7190\n",
      "Epoch 49/120\n",
      "7500/7500 [==============================] - 0s 65us/step - loss: 1.2633 - acc: 0.7632 - val_loss: 1.3438 - val_acc: 0.7220\n",
      "Epoch 50/120\n",
      "7500/7500 [==============================] - 0s 62us/step - loss: 1.2528 - acc: 0.7684 - val_loss: 1.3357 - val_acc: 0.7240\n",
      "Epoch 51/120\n",
      "7500/7500 [==============================] - 0s 61us/step - loss: 1.2434 - acc: 0.7725 - val_loss: 1.3276 - val_acc: 0.7300\n",
      "Epoch 52/120\n",
      "7500/7500 [==============================] - 0s 60us/step - loss: 1.2341 - acc: 0.7728 - val_loss: 1.3215 - val_acc: 0.7210\n",
      "Epoch 53/120\n",
      "7500/7500 [==============================] - 0s 59us/step - loss: 1.2250 - acc: 0.7732 - val_loss: 1.3138 - val_acc: 0.7300\n",
      "Epoch 54/120\n",
      "7500/7500 [==============================] - 0s 60us/step - loss: 1.2159 - acc: 0.7763 - val_loss: 1.3069 - val_acc: 0.7250\n",
      "Epoch 55/120\n",
      "7500/7500 [==============================] - 1s 67us/step - loss: 1.2073 - acc: 0.7807 - val_loss: 1.3005 - val_acc: 0.7300\n",
      "Epoch 56/120\n",
      "7500/7500 [==============================] - 0s 62us/step - loss: 1.1990 - acc: 0.7845 - val_loss: 1.2952 - val_acc: 0.7310\n",
      "Epoch 57/120\n",
      "7500/7500 [==============================] - 0s 63us/step - loss: 1.1908 - acc: 0.7852 - val_loss: 1.2937 - val_acc: 0.7280\n",
      "Epoch 58/120\n",
      "7500/7500 [==============================] - 0s 62us/step - loss: 1.1825 - acc: 0.7857 - val_loss: 1.2839 - val_acc: 0.7330\n",
      "Epoch 59/120\n",
      "7500/7500 [==============================] - 0s 61us/step - loss: 1.1747 - acc: 0.7895 - val_loss: 1.2777 - val_acc: 0.7410\n",
      "Epoch 60/120\n"
     ]
    },
    {
     "name": "stdout",
     "output_type": "stream",
     "text": [
      "7500/7500 [==============================] - 0s 67us/step - loss: 1.1667 - acc: 0.7896 - val_loss: 1.2738 - val_acc: 0.7400\n",
      "Epoch 61/120\n",
      "7500/7500 [==============================] - 1s 71us/step - loss: 1.1598 - acc: 0.7917 - val_loss: 1.2678 - val_acc: 0.7360\n",
      "Epoch 62/120\n",
      "7500/7500 [==============================] - 1s 69us/step - loss: 1.1524 - acc: 0.7945 - val_loss: 1.2632 - val_acc: 0.7380\n",
      "Epoch 63/120\n",
      "7500/7500 [==============================] - 1s 70us/step - loss: 1.1452 - acc: 0.7947 - val_loss: 1.2600 - val_acc: 0.7470\n",
      "Epoch 64/120\n",
      "7500/7500 [==============================] - 0s 64us/step - loss: 1.1381 - acc: 0.7961 - val_loss: 1.2521 - val_acc: 0.7330\n",
      "Epoch 65/120\n",
      "7500/7500 [==============================] - 1s 71us/step - loss: 1.1315 - acc: 0.7967 - val_loss: 1.2489 - val_acc: 0.7360\n",
      "Epoch 66/120\n",
      "7500/7500 [==============================] - 1s 69us/step - loss: 1.1246 - acc: 0.8027 - val_loss: 1.2432 - val_acc: 0.7430\n",
      "Epoch 67/120\n",
      "7500/7500 [==============================] - 1s 69us/step - loss: 1.1183 - acc: 0.8007 - val_loss: 1.2398 - val_acc: 0.7380\n",
      "Epoch 68/120\n",
      "7500/7500 [==============================] - 1s 67us/step - loss: 1.1114 - acc: 0.8051 - val_loss: 1.2335 - val_acc: 0.7450\n",
      "Epoch 69/120\n",
      "7500/7500 [==============================] - 1s 69us/step - loss: 1.1054 - acc: 0.8087 - val_loss: 1.2296 - val_acc: 0.7410\n",
      "Epoch 70/120\n",
      "7500/7500 [==============================] - 1s 67us/step - loss: 1.0987 - acc: 0.8048 - val_loss: 1.2270 - val_acc: 0.7450\n",
      "Epoch 71/120\n",
      "7500/7500 [==============================] - 1s 67us/step - loss: 1.0924 - acc: 0.8087 - val_loss: 1.2219 - val_acc: 0.7450\n",
      "Epoch 72/120\n",
      "7500/7500 [==============================] - 1s 68us/step - loss: 1.0864 - acc: 0.8092 - val_loss: 1.2210 - val_acc: 0.7450\n",
      "Epoch 73/120\n",
      "7500/7500 [==============================] - 1s 70us/step - loss: 1.0810 - acc: 0.8136 - val_loss: 1.2162 - val_acc: 0.7490\n",
      "Epoch 74/120\n",
      "7500/7500 [==============================] - 1s 68us/step - loss: 1.0744 - acc: 0.8115 - val_loss: 1.2111 - val_acc: 0.7450\n",
      "Epoch 75/120\n",
      "7500/7500 [==============================] - 1s 69us/step - loss: 1.0688 - acc: 0.8168 - val_loss: 1.2061 - val_acc: 0.7480\n",
      "Epoch 76/120\n",
      "7500/7500 [==============================] - 1s 67us/step - loss: 1.0628 - acc: 0.8156 - val_loss: 1.2018 - val_acc: 0.7470\n",
      "Epoch 77/120\n",
      "7500/7500 [==============================] - 0s 66us/step - loss: 1.0569 - acc: 0.8185 - val_loss: 1.1985 - val_acc: 0.7400\n",
      "Epoch 78/120\n",
      "7500/7500 [==============================] - 1s 69us/step - loss: 1.0517 - acc: 0.8212 - val_loss: 1.1957 - val_acc: 0.7510\n",
      "Epoch 79/120\n",
      "7500/7500 [==============================] - 1s 67us/step - loss: 1.0461 - acc: 0.8209 - val_loss: 1.1919 - val_acc: 0.7480\n",
      "Epoch 80/120\n",
      "7500/7500 [==============================] - 0s 67us/step - loss: 1.0410 - acc: 0.8235 - val_loss: 1.1884 - val_acc: 0.7510\n",
      "Epoch 81/120\n",
      "7500/7500 [==============================] - 1s 67us/step - loss: 1.0351 - acc: 0.8264 - val_loss: 1.1852 - val_acc: 0.7500\n",
      "Epoch 82/120\n",
      "7500/7500 [==============================] - 1s 67us/step - loss: 1.0301 - acc: 0.8267 - val_loss: 1.1828 - val_acc: 0.7470\n",
      "Epoch 83/120\n",
      "7500/7500 [==============================] - 1s 69us/step - loss: 1.0252 - acc: 0.8267 - val_loss: 1.1782 - val_acc: 0.7460\n",
      "Epoch 84/120\n",
      "7500/7500 [==============================] - 0s 66us/step - loss: 1.0199 - acc: 0.8297 - val_loss: 1.1756 - val_acc: 0.7520\n",
      "Epoch 85/120\n",
      "7500/7500 [==============================] - 0s 66us/step - loss: 1.0145 - acc: 0.8317 - val_loss: 1.1717 - val_acc: 0.7490\n",
      "Epoch 86/120\n",
      "7500/7500 [==============================] - 0s 65us/step - loss: 1.0098 - acc: 0.8323 - val_loss: 1.1689 - val_acc: 0.7500\n",
      "Epoch 87/120\n",
      "7500/7500 [==============================] - 0s 66us/step - loss: 1.0044 - acc: 0.8361 - val_loss: 1.1645 - val_acc: 0.7470\n",
      "Epoch 88/120\n",
      "7500/7500 [==============================] - 1s 67us/step - loss: 0.9996 - acc: 0.8352 - val_loss: 1.1646 - val_acc: 0.7450\n",
      "Epoch 89/120\n",
      "7500/7500 [==============================] - 0s 64us/step - loss: 0.9946 - acc: 0.8384 - val_loss: 1.1587 - val_acc: 0.7520\n",
      "Epoch 90/120\n",
      "7500/7500 [==============================] - 0s 66us/step - loss: 0.9898 - acc: 0.8371 - val_loss: 1.1599 - val_acc: 0.7520\n",
      "Epoch 91/120\n",
      "7500/7500 [==============================] - 1s 75us/step - loss: 0.9854 - acc: 0.8387 - val_loss: 1.1528 - val_acc: 0.7510\n",
      "Epoch 92/120\n",
      "7500/7500 [==============================] - 0s 66us/step - loss: 0.9803 - acc: 0.8400 - val_loss: 1.1505 - val_acc: 0.7530\n",
      "Epoch 93/120\n",
      "7500/7500 [==============================] - 0s 65us/step - loss: 0.9756 - acc: 0.8400 - val_loss: 1.1475 - val_acc: 0.7500\n",
      "Epoch 94/120\n",
      "7500/7500 [==============================] - 1s 67us/step - loss: 0.9711 - acc: 0.8427 - val_loss: 1.1454 - val_acc: 0.7550\n",
      "Epoch 95/120\n",
      "7500/7500 [==============================] - 1s 67us/step - loss: 0.9662 - acc: 0.8456 - val_loss: 1.1413 - val_acc: 0.7480\n",
      "Epoch 96/120\n",
      "7500/7500 [==============================] - 0s 63us/step - loss: 0.9618 - acc: 0.8460 - val_loss: 1.1405 - val_acc: 0.7570\n",
      "Epoch 97/120\n",
      "7500/7500 [==============================] - 0s 65us/step - loss: 0.9571 - acc: 0.8463 - val_loss: 1.1367 - val_acc: 0.7530\n",
      "Epoch 98/120\n",
      "7500/7500 [==============================] - 1s 84us/step - loss: 0.9528 - acc: 0.8477 - val_loss: 1.1335 - val_acc: 0.7500\n",
      "Epoch 99/120\n",
      "7500/7500 [==============================] - 1s 83us/step - loss: 0.9487 - acc: 0.8461 - val_loss: 1.1308 - val_acc: 0.7490\n",
      "Epoch 100/120\n",
      "7500/7500 [==============================] - 1s 85us/step - loss: 0.9444 - acc: 0.8483 - val_loss: 1.1277 - val_acc: 0.7480\n",
      "Epoch 101/120\n",
      "7500/7500 [==============================] - 1s 86us/step - loss: 0.9403 - acc: 0.8511 - val_loss: 1.1271 - val_acc: 0.7550\n",
      "Epoch 102/120\n",
      "7500/7500 [==============================] - 1s 81us/step - loss: 0.9360 - acc: 0.8505 - val_loss: 1.1262 - val_acc: 0.7570\n",
      "Epoch 103/120\n",
      "7500/7500 [==============================] - 1s 78us/step - loss: 0.9318 - acc: 0.8497 - val_loss: 1.1213 - val_acc: 0.7530\n",
      "Epoch 104/120\n",
      "7500/7500 [==============================] - 1s 73us/step - loss: 0.9272 - acc: 0.8539 - val_loss: 1.1188 - val_acc: 0.7540\n",
      "Epoch 105/120\n",
      "7500/7500 [==============================] - 1s 70us/step - loss: 0.9235 - acc: 0.8529 - val_loss: 1.1177 - val_acc: 0.7530\n",
      "Epoch 106/120\n",
      "7500/7500 [==============================] - 1s 77us/step - loss: 0.9191 - acc: 0.8536 - val_loss: 1.1151 - val_acc: 0.7620\n",
      "Epoch 107/120\n",
      "7500/7500 [==============================] - 1s 73us/step - loss: 0.9151 - acc: 0.8559 - val_loss: 1.1128 - val_acc: 0.7530\n",
      "Epoch 108/120\n",
      "7500/7500 [==============================] - 1s 70us/step - loss: 0.9111 - acc: 0.8560 - val_loss: 1.1126 - val_acc: 0.7610\n",
      "Epoch 109/120\n",
      "7500/7500 [==============================] - 1s 80us/step - loss: 0.9074 - acc: 0.8568 - val_loss: 1.1087 - val_acc: 0.7530\n",
      "Epoch 110/120\n",
      "7500/7500 [==============================] - 1s 77us/step - loss: 0.9038 - acc: 0.8592 - val_loss: 1.1055 - val_acc: 0.7550\n",
      "Epoch 111/120\n",
      "7500/7500 [==============================] - 1s 75us/step - loss: 0.8993 - acc: 0.8601 - val_loss: 1.1040 - val_acc: 0.7590\n",
      "Epoch 112/120\n",
      "7500/7500 [==============================] - 0s 67us/step - loss: 0.8955 - acc: 0.8620 - val_loss: 1.1024 - val_acc: 0.7540\n",
      "Epoch 113/120\n",
      "7500/7500 [==============================] - 1s 78us/step - loss: 0.8916 - acc: 0.8607 - val_loss: 1.0995 - val_acc: 0.7610\n",
      "Epoch 114/120\n",
      "7500/7500 [==============================] - 1s 80us/step - loss: 0.8881 - acc: 0.8621 - val_loss: 1.0971 - val_acc: 0.7580\n",
      "Epoch 115/120\n",
      "7500/7500 [==============================] - 1s 77us/step - loss: 0.8841 - acc: 0.8639 - val_loss: 1.0960 - val_acc: 0.7630\n",
      "Epoch 116/120\n",
      "7500/7500 [==============================] - 1s 67us/step - loss: 0.8803 - acc: 0.8649 - val_loss: 1.0941 - val_acc: 0.7600\n",
      "Epoch 117/120\n",
      "7500/7500 [==============================] - 1s 74us/step - loss: 0.8767 - acc: 0.8661 - val_loss: 1.0923 - val_acc: 0.7580\n",
      "Epoch 118/120\n",
      "7500/7500 [==============================] - 1s 68us/step - loss: 0.8731 - acc: 0.8679 - val_loss: 1.0890 - val_acc: 0.7600\n",
      "Epoch 119/120\n",
      "7500/7500 [==============================] - 0s 65us/step - loss: 0.8694 - acc: 0.8677 - val_loss: 1.0911 - val_acc: 0.7560\n"
     ]
    },
    {
     "name": "stdout",
     "output_type": "stream",
     "text": [
      "Epoch 120/120\n",
      "7500/7500 [==============================] - 1s 70us/step - loss: 0.8665 - acc: 0.8679 - val_loss: 1.0853 - val_acc: 0.7620\n"
     ]
    }
   ],
   "source": [
    "from keras import regularizers\n",
    "random.seed(123)\n",
    "model = models.Sequential()\n",
    "model.add(layers.Dense(50, activation='relu',kernel_regularizer=regularizers.l2(0.005), input_shape=(2000,))) #2 hidden layers\n",
    "model.add(layers.Dense(25, kernel_regularizer=regularizers.l2(0.005), activation='relu'))\n",
    "model.add(layers.Dense(7, activation='softmax'))\n",
    "\n",
    "model.compile(optimizer='SGD',\n",
    "              loss='categorical_crossentropy',\n",
    "              metrics=['accuracy'])\n",
    "\n",
    "L2_model = model.fit(train_final,\n",
    "                    label_train_final,\n",
    "                    epochs=120,\n",
    "                    batch_size=256,\n",
    "                    validation_data=(val, label_val))"
   ]
  },
  {
   "cell_type": "code",
   "execution_count": null,
   "metadata": {},
   "outputs": [
    {
     "data": {
      "text/plain": [
       "dict_keys(['val_loss', 'val_acc', 'loss', 'acc'])"
      ]
     },
     "execution_count": 24,
     "metadata": {},
     "output_type": "execute_result"
    }
   ],
   "source": [
    "L2_model_dict = L2_model.history\n",
    "L2_model_dict.keys()"
   ]
  },
  {
   "cell_type": "markdown",
   "metadata": {},
   "source": [
    "Let's look at the training accuracy as well as the validation accuracy for both the L2 and the model without regularization (for 120 epochs)."
   ]
  },
  {
   "cell_type": "code",
   "execution_count": null,
   "metadata": {},
   "outputs": [
    {
     "data": {
      "image/png": "[encoded data removed]",
      "text/plain": [
       "<Figure size 432x288 with 1 Axes>"
      ]
     },
     "metadata": {
      "needs_background": "light"
     },
     "output_type": "display_data"
    }
   ],
   "source": [
    "plt.clf()\n",
    "\n",
    "acc_values = L2_model_dict['acc'] \n",
    "val_acc_values = L2_model_dict['val_acc']\n",
    "model_acc = model_val_dict['acc']\n",
    "model_val_acc = model_val_dict['val_acc']\n",
    "\n",
    "epochs = range(1, len(acc_values) + 1)\n",
    "plt.plot(epochs, acc_values, 'g', label='Training acc L2')\n",
    "plt.plot(epochs, val_acc_values, 'g', label='Validation acc L2')\n",
    "plt.plot(epochs, model_acc, 'r', label='Training acc')\n",
    "plt.plot(epochs, model_val_acc, 'r', label='Validation acc')\n",
    "plt.title('Training & validation accuracy L2 vs regular')\n",
    "plt.xlabel('Epochs')\n",
    "plt.ylabel('Loss')\n",
    "plt.legend()\n",
    "plt.show()"
   ]
  },
  {
   "cell_type": "markdown",
   "metadata": {},
   "source": [
    "The results of L2 regularization are quite disappointing here. We notice the discrepancy between validation and training accuracy seems to have decreased slightly, but the end result is definitely not getting better. "
   ]
  },
  {
   "cell_type": "markdown",
   "metadata": {},
   "source": [
    "## L1 Regularization"
   ]
  },
  {
   "cell_type": "markdown",
   "metadata": {},
   "source": [
    "Let's have a look at L1 regularization. Will this work better?"
   ]
  },
  {
   "cell_type": "code",
   "execution_count": null,
   "metadata": {},
   "outputs": [
    {
     "name": "stdout",
     "output_type": "stream",
     "text": [
      "Train on 7500 samples, validate on 1000 samples\n",
      "Epoch 1/120\n",
      "7500/7500 [==============================] - 1s 109us/step - loss: 15.9906 - acc: 0.1609 - val_loss: 15.5674 - val_acc: 0.1690\n",
      "Epoch 2/120\n",
      "7500/7500 [==============================] - 1s 70us/step - loss: 15.2157 - acc: 0.2016 - val_loss: 14.8178 - val_acc: 0.2060\n",
      "Epoch 3/120\n",
      "7500/7500 [==============================] - 1s 68us/step - loss: 14.4783 - acc: 0.2345 - val_loss: 14.0924 - val_acc: 0.2520\n",
      "Epoch 4/120\n",
      "7500/7500 [==============================] - 1s 67us/step - loss: 13.7616 - acc: 0.2665 - val_loss: 13.3861 - val_acc: 0.2960\n",
      "Epoch 5/120\n",
      "7500/7500 [==============================] - 1s 68us/step - loss: 13.0635 - acc: 0.3105 - val_loss: 12.6970 - val_acc: 0.3240\n",
      "Epoch 6/120\n",
      "7500/7500 [==============================] - 1s 69us/step - loss: 12.3828 - acc: 0.3419 - val_loss: 12.0273 - val_acc: 0.3560\n",
      "Epoch 7/120\n",
      "7500/7500 [==============================] - 1s 67us/step - loss: 11.7215 - acc: 0.3721 - val_loss: 11.3776 - val_acc: 0.3790\n",
      "Epoch 8/120\n",
      "7500/7500 [==============================] - 1s 68us/step - loss: 11.0804 - acc: 0.3892 - val_loss: 10.7480 - val_acc: 0.3890\n",
      "Epoch 9/120\n",
      "7500/7500 [==============================] - 1s 67us/step - loss: 10.4601 - acc: 0.4075 - val_loss: 10.1407 - val_acc: 0.4070\n",
      "Epoch 10/120\n",
      "7500/7500 [==============================] - 1s 68us/step - loss: 9.8623 - acc: 0.4164 - val_loss: 9.5550 - val_acc: 0.4110\n",
      "Epoch 11/120\n",
      "7500/7500 [==============================] - 0s 66us/step - loss: 9.2860 - acc: 0.4348 - val_loss: 8.9908 - val_acc: 0.4260\n",
      "Epoch 12/120\n",
      "7500/7500 [==============================] - 0s 65us/step - loss: 8.7317 - acc: 0.4507 - val_loss: 8.4499 - val_acc: 0.4340\n",
      "Epoch 13/120\n",
      "7500/7500 [==============================] - 1s 69us/step - loss: 8.1998 - acc: 0.4613 - val_loss: 7.9307 - val_acc: 0.4690\n",
      "Epoch 14/120\n",
      "7500/7500 [==============================] - 1s 67us/step - loss: 7.6908 - acc: 0.4880 - val_loss: 7.4341 - val_acc: 0.4910\n",
      "Epoch 15/120\n",
      "7500/7500 [==============================] - 0s 65us/step - loss: 7.2039 - acc: 0.5109 - val_loss: 6.9596 - val_acc: 0.4990\n",
      "Epoch 16/120\n",
      "7500/7500 [==============================] - 1s 68us/step - loss: 6.7397 - acc: 0.5271 - val_loss: 6.5081 - val_acc: 0.5060\n",
      "Epoch 17/120\n",
      "7500/7500 [==============================] - 0s 65us/step - loss: 6.2975 - acc: 0.5493 - val_loss: 6.0787 - val_acc: 0.5450\n",
      "Epoch 18/120\n",
      "7500/7500 [==============================] - 0s 67us/step - loss: 5.8780 - acc: 0.5681 - val_loss: 5.6715 - val_acc: 0.5700\n",
      "Epoch 19/120\n",
      "7500/7500 [==============================] - 0s 66us/step - loss: 5.4816 - acc: 0.5907 - val_loss: 5.2877 - val_acc: 0.5700\n",
      "Epoch 20/120\n",
      "7500/7500 [==============================] - 0s 67us/step - loss: 5.1079 - acc: 0.5989 - val_loss: 4.9270 - val_acc: 0.5880\n",
      "Epoch 21/120\n",
      "7500/7500 [==============================] - 1s 69us/step - loss: 4.7568 - acc: 0.6113 - val_loss: 4.5888 - val_acc: 0.6030\n",
      "Epoch 22/120\n",
      "7500/7500 [==============================] - 0s 65us/step - loss: 4.4287 - acc: 0.6251 - val_loss: 4.2714 - val_acc: 0.6030\n",
      "Epoch 23/120\n",
      "7500/7500 [==============================] - 1s 67us/step - loss: 4.1227 - acc: 0.6324 - val_loss: 3.9783 - val_acc: 0.6140\n",
      "Epoch 24/120\n",
      "7500/7500 [==============================] - 0s 66us/step - loss: 3.8389 - acc: 0.6403 - val_loss: 3.7067 - val_acc: 0.6330\n",
      "Epoch 25/120\n",
      "7500/7500 [==============================] - 0s 65us/step - loss: 3.5763 - acc: 0.6519 - val_loss: 3.4550 - val_acc: 0.6390\n",
      "Epoch 26/120\n",
      "7500/7500 [==============================] - 0s 64us/step - loss: 3.3358 - acc: 0.6531 - val_loss: 3.2282 - val_acc: 0.6490\n",
      "Epoch 27/120\n",
      "7500/7500 [==============================] - 0s 66us/step - loss: 3.1170 - acc: 0.6635 - val_loss: 3.0195 - val_acc: 0.6460\n",
      "Epoch 28/120\n",
      "7500/7500 [==============================] - 0s 64us/step - loss: 2.9196 - acc: 0.6665 - val_loss: 2.8343 - val_acc: 0.6360\n",
      "Epoch 29/120\n",
      "7500/7500 [==============================] - 1s 67us/step - loss: 2.7442 - acc: 0.6660 - val_loss: 2.6702 - val_acc: 0.6420\n",
      "Epoch 30/120\n",
      "7500/7500 [==============================] - 0s 64us/step - loss: 2.5895 - acc: 0.6661 - val_loss: 2.5256 - val_acc: 0.6540\n",
      "Epoch 31/120\n",
      "7500/7500 [==============================] - 1s 68us/step - loss: 2.4551 - acc: 0.6715 - val_loss: 2.4048 - val_acc: 0.6540\n",
      "Epoch 32/120\n",
      "7500/7500 [==============================] - 0s 66us/step - loss: 2.3411 - acc: 0.6739 - val_loss: 2.2985 - val_acc: 0.6510\n",
      "Epoch 33/120\n",
      "7500/7500 [==============================] - 0s 64us/step - loss: 2.2465 - acc: 0.6728 - val_loss: 2.2145 - val_acc: 0.6620\n",
      "Epoch 34/120\n",
      "7500/7500 [==============================] - 0s 65us/step - loss: 2.1703 - acc: 0.6719 - val_loss: 2.1488 - val_acc: 0.6600\n",
      "Epoch 35/120\n",
      "7500/7500 [==============================] - 0s 66us/step - loss: 2.1118 - acc: 0.6741 - val_loss: 2.0967 - val_acc: 0.6620\n",
      "Epoch 36/120\n",
      "7500/7500 [==============================] - 1s 68us/step - loss: 2.0677 - acc: 0.6755 - val_loss: 2.0599 - val_acc: 0.6620\n",
      "Epoch 37/120\n",
      "7500/7500 [==============================] - 0s 66us/step - loss: 2.0349 - acc: 0.6763 - val_loss: 2.0316 - val_acc: 0.6620\n",
      "Epoch 38/120\n",
      "7500/7500 [==============================] - 0s 64us/step - loss: 2.0086 - acc: 0.6775 - val_loss: 2.0069 - val_acc: 0.6560\n",
      "Epoch 39/120\n",
      "7500/7500 [==============================] - 0s 64us/step - loss: 1.9859 - acc: 0.6775 - val_loss: 1.9859 - val_acc: 0.6630\n",
      "Epoch 40/120\n",
      "7500/7500 [==============================] - 0s 66us/step - loss: 1.9654 - acc: 0.6784 - val_loss: 1.9676 - val_acc: 0.6640\n",
      "Epoch 41/120\n",
      "7500/7500 [==============================] - 0s 65us/step - loss: 1.9459 - acc: 0.6803 - val_loss: 1.9487 - val_acc: 0.6660\n",
      "Epoch 42/120\n",
      "7500/7500 [==============================] - 0s 66us/step - loss: 1.9281 - acc: 0.6805 - val_loss: 1.9329 - val_acc: 0.6640\n",
      "Epoch 43/120\n",
      "7500/7500 [==============================] - 0s 65us/step - loss: 1.9116 - acc: 0.6801 - val_loss: 1.9190 - val_acc: 0.6700\n",
      "Epoch 44/120\n",
      "7500/7500 [==============================] - 0s 62us/step - loss: 1.8951 - acc: 0.6801 - val_loss: 1.9003 - val_acc: 0.6660\n",
      "Epoch 45/120\n",
      "7500/7500 [==============================] - 0s 62us/step - loss: 1.8797 - acc: 0.6829 - val_loss: 1.8860 - val_acc: 0.6660\n",
      "Epoch 46/120\n",
      "7500/7500 [==============================] - 0s 64us/step - loss: 1.8649 - acc: 0.6832 - val_loss: 1.8714 - val_acc: 0.6690\n",
      "Epoch 47/120\n",
      "7500/7500 [==============================] - 0s 64us/step - loss: 1.8516 - acc: 0.6832 - val_loss: 1.8579 - val_acc: 0.6740\n",
      "Epoch 48/120\n",
      "7500/7500 [==============================] - 0s 65us/step - loss: 1.8370 - acc: 0.6844 - val_loss: 1.8443 - val_acc: 0.6680\n",
      "Epoch 49/120\n",
      "7500/7500 [==============================] - 0s 65us/step - loss: 1.8243 - acc: 0.6844 - val_loss: 1.8321 - val_acc: 0.6740\n",
      "Epoch 50/120\n",
      "7500/7500 [==============================] - 0s 66us/step - loss: 1.8114 - acc: 0.6860 - val_loss: 1.8213 - val_acc: 0.6670\n",
      "Epoch 51/120\n",
      "7500/7500 [==============================] - 0s 63us/step - loss: 1.7994 - acc: 0.6865 - val_loss: 1.8071 - val_acc: 0.6710\n",
      "Epoch 52/120\n",
      "7500/7500 [==============================] - 0s 64us/step - loss: 1.7870 - acc: 0.6879 - val_loss: 1.7987 - val_acc: 0.6700\n",
      "Epoch 53/120\n",
      "7500/7500 [==============================] - 0s 64us/step - loss: 1.7761 - acc: 0.6879 - val_loss: 1.7869 - val_acc: 0.6710\n",
      "Epoch 54/120\n",
      "7500/7500 [==============================] - 0s 66us/step - loss: 1.7646 - acc: 0.6903 - val_loss: 1.7765 - val_acc: 0.6760\n",
      "Epoch 55/120\n",
      "7500/7500 [==============================] - 1s 70us/step - loss: 1.7537 - acc: 0.6897 - val_loss: 1.7651 - val_acc: 0.6700\n",
      "Epoch 56/120\n",
      "7500/7500 [==============================] - 1s 68us/step - loss: 1.7431 - acc: 0.6895 - val_loss: 1.7601 - val_acc: 0.6810\n",
      "Epoch 57/120\n",
      "7500/7500 [==============================] - 0s 65us/step - loss: 1.7328 - acc: 0.6919 - val_loss: 1.7467 - val_acc: 0.6680\n",
      "Epoch 58/120\n",
      "7500/7500 [==============================] - 0s 64us/step - loss: 1.7223 - acc: 0.6897 - val_loss: 1.7344 - val_acc: 0.6770\n",
      "Epoch 59/120\n",
      "7500/7500 [==============================] - 0s 64us/step - loss: 1.7127 - acc: 0.6913 - val_loss: 1.7258 - val_acc: 0.6790\n",
      "Epoch 60/120\n"
     ]
    },
    {
     "name": "stdout",
     "output_type": "stream",
     "text": [
      "7500/7500 [==============================] - 1s 72us/step - loss: 1.7030 - acc: 0.6919 - val_loss: 1.7211 - val_acc: 0.6670\n",
      "Epoch 61/120\n",
      "7500/7500 [==============================] - 1s 69us/step - loss: 1.6935 - acc: 0.6921 - val_loss: 1.7074 - val_acc: 0.6760\n",
      "Epoch 62/120\n",
      "7500/7500 [==============================] - 1s 69us/step - loss: 1.6838 - acc: 0.6960 - val_loss: 1.6982 - val_acc: 0.6810\n",
      "Epoch 63/120\n",
      "7500/7500 [==============================] - 1s 70us/step - loss: 1.6756 - acc: 0.6947 - val_loss: 1.6911 - val_acc: 0.6750\n",
      "Epoch 64/120\n",
      "7500/7500 [==============================] - 1s 71us/step - loss: 1.6665 - acc: 0.6939 - val_loss: 1.6780 - val_acc: 0.6810\n",
      "Epoch 65/120\n",
      "7500/7500 [==============================] - 1s 72us/step - loss: 1.6575 - acc: 0.6960 - val_loss: 1.6752 - val_acc: 0.6770\n",
      "Epoch 66/120\n",
      "7500/7500 [==============================] - 1s 67us/step - loss: 1.6489 - acc: 0.6960 - val_loss: 1.6640 - val_acc: 0.6860\n",
      "Epoch 67/120\n",
      "7500/7500 [==============================] - 1s 69us/step - loss: 1.6405 - acc: 0.6976 - val_loss: 1.6583 - val_acc: 0.6800\n",
      "Epoch 68/120\n",
      "7500/7500 [==============================] - 1s 67us/step - loss: 1.6330 - acc: 0.6959 - val_loss: 1.6467 - val_acc: 0.6860\n",
      "Epoch 69/120\n",
      "7500/7500 [==============================] - 1s 67us/step - loss: 1.6248 - acc: 0.6983 - val_loss: 1.6397 - val_acc: 0.6840\n",
      "Epoch 70/120\n",
      "7500/7500 [==============================] - 0s 67us/step - loss: 1.6167 - acc: 0.6973 - val_loss: 1.6323 - val_acc: 0.6820\n",
      "Epoch 71/120\n",
      "7500/7500 [==============================] - 1s 68us/step - loss: 1.6085 - acc: 0.6992 - val_loss: 1.6242 - val_acc: 0.6870\n",
      "Epoch 72/120\n",
      "7500/7500 [==============================] - 1s 68us/step - loss: 1.6005 - acc: 0.6989 - val_loss: 1.6185 - val_acc: 0.6830\n",
      "Epoch 73/120\n",
      "7500/7500 [==============================] - 1s 67us/step - loss: 1.5937 - acc: 0.6985 - val_loss: 1.6083 - val_acc: 0.6880\n",
      "Epoch 74/120\n",
      "7500/7500 [==============================] - 1s 68us/step - loss: 1.5856 - acc: 0.7003 - val_loss: 1.6006 - val_acc: 0.6850\n",
      "Epoch 75/120\n",
      "7500/7500 [==============================] - 0s 66us/step - loss: 1.5785 - acc: 0.7032 - val_loss: 1.6008 - val_acc: 0.6910\n",
      "Epoch 76/120\n",
      "7500/7500 [==============================] - 0s 66us/step - loss: 1.5711 - acc: 0.7027 - val_loss: 1.5879 - val_acc: 0.6880\n",
      "Epoch 77/120\n",
      "7500/7500 [==============================] - 1s 69us/step - loss: 1.5641 - acc: 0.7044 - val_loss: 1.5842 - val_acc: 0.6860\n",
      "Epoch 78/120\n",
      "7500/7500 [==============================] - 0s 66us/step - loss: 1.5566 - acc: 0.7032 - val_loss: 1.5745 - val_acc: 0.6900\n",
      "Epoch 79/120\n",
      "7500/7500 [==============================] - 0s 66us/step - loss: 1.5497 - acc: 0.7025 - val_loss: 1.5666 - val_acc: 0.6910\n",
      "Epoch 80/120\n",
      "7500/7500 [==============================] - 1s 67us/step - loss: 1.5426 - acc: 0.7044 - val_loss: 1.5598 - val_acc: 0.6890\n",
      "Epoch 81/120\n",
      "7500/7500 [==============================] - 1s 68us/step - loss: 1.5356 - acc: 0.7065 - val_loss: 1.5563 - val_acc: 0.6890\n",
      "Epoch 82/120\n",
      "7500/7500 [==============================] - 1s 69us/step - loss: 1.5292 - acc: 0.7044 - val_loss: 1.5460 - val_acc: 0.6920\n",
      "Epoch 83/120\n",
      "7500/7500 [==============================] - 1s 71us/step - loss: 1.5224 - acc: 0.7065 - val_loss: 1.5390 - val_acc: 0.6890\n",
      "Epoch 84/120\n",
      "7500/7500 [==============================] - 1s 67us/step - loss: 1.5160 - acc: 0.7064 - val_loss: 1.5345 - val_acc: 0.6910\n",
      "Epoch 85/120\n",
      "7500/7500 [==============================] - 1s 68us/step - loss: 1.5094 - acc: 0.7063 - val_loss: 1.5256 - val_acc: 0.6920\n",
      "Epoch 86/120\n",
      "7500/7500 [==============================] - 0s 65us/step - loss: 1.5031 - acc: 0.7085 - val_loss: 1.5233 - val_acc: 0.6960\n",
      "Epoch 87/120\n",
      "7500/7500 [==============================] - 0s 66us/step - loss: 1.4966 - acc: 0.7065 - val_loss: 1.5185 - val_acc: 0.6910\n",
      "Epoch 88/120\n",
      "7500/7500 [==============================] - 0s 65us/step - loss: 1.4905 - acc: 0.7076 - val_loss: 1.5090 - val_acc: 0.6950\n",
      "Epoch 89/120\n",
      "7500/7500 [==============================] - 1s 67us/step - loss: 1.4841 - acc: 0.7091 - val_loss: 1.5014 - val_acc: 0.6950\n",
      "Epoch 90/120\n",
      "7500/7500 [==============================] - 0s 66us/step - loss: 1.4785 - acc: 0.7091 - val_loss: 1.4984 - val_acc: 0.6960\n",
      "Epoch 91/120\n",
      "7500/7500 [==============================] - 1s 69us/step - loss: 1.4717 - acc: 0.7097 - val_loss: 1.4926 - val_acc: 0.6920\n",
      "Epoch 92/120\n",
      "7500/7500 [==============================] - 1s 67us/step - loss: 1.4657 - acc: 0.7099 - val_loss: 1.4858 - val_acc: 0.6950\n",
      "Epoch 93/120\n",
      "7500/7500 [==============================] - 0s 65us/step - loss: 1.4596 - acc: 0.7108 - val_loss: 1.4830 - val_acc: 0.6940\n",
      "Epoch 94/120\n",
      "7500/7500 [==============================] - 0s 65us/step - loss: 1.4536 - acc: 0.7145 - val_loss: 1.4743 - val_acc: 0.6930\n",
      "Epoch 95/120\n",
      "7500/7500 [==============================] - 1s 67us/step - loss: 1.4476 - acc: 0.7105 - val_loss: 1.4693 - val_acc: 0.6930\n",
      "Epoch 96/120\n",
      "7500/7500 [==============================] - 0s 67us/step - loss: 1.4418 - acc: 0.7112 - val_loss: 1.4611 - val_acc: 0.6940\n",
      "Epoch 97/120\n",
      "7500/7500 [==============================] - 0s 66us/step - loss: 1.4360 - acc: 0.7116 - val_loss: 1.4580 - val_acc: 0.7000\n",
      "Epoch 98/120\n",
      "7500/7500 [==============================] - 1s 69us/step - loss: 1.4309 - acc: 0.7143 - val_loss: 1.4530 - val_acc: 0.6980\n",
      "Epoch 99/120\n",
      "7500/7500 [==============================] - 0s 67us/step - loss: 1.4260 - acc: 0.7131 - val_loss: 1.4455 - val_acc: 0.6940\n",
      "Epoch 100/120\n",
      "7500/7500 [==============================] - 1s 67us/step - loss: 1.4196 - acc: 0.7128 - val_loss: 1.4434 - val_acc: 0.6980\n",
      "Epoch 101/120\n",
      "7500/7500 [==============================] - 0s 66us/step - loss: 1.4146 - acc: 0.7133 - val_loss: 1.4406 - val_acc: 0.6910\n",
      "Epoch 102/120\n",
      "7500/7500 [==============================] - 0s 64us/step - loss: 1.4100 - acc: 0.7145 - val_loss: 1.4320 - val_acc: 0.6940\n",
      "Epoch 103/120\n",
      "7500/7500 [==============================] - 0s 65us/step - loss: 1.4040 - acc: 0.7143 - val_loss: 1.4268 - val_acc: 0.6990\n",
      "Epoch 104/120\n",
      "7500/7500 [==============================] - 0s 66us/step - loss: 1.3986 - acc: 0.7164 - val_loss: 1.4284 - val_acc: 0.6880\n",
      "Epoch 105/120\n",
      "7500/7500 [==============================] - 0s 66us/step - loss: 1.3941 - acc: 0.7159 - val_loss: 1.4237 - val_acc: 0.6950\n",
      "Epoch 106/120\n",
      "7500/7500 [==============================] - 1s 67us/step - loss: 1.3893 - acc: 0.7147 - val_loss: 1.4123 - val_acc: 0.6990\n",
      "Epoch 107/120\n",
      "7500/7500 [==============================] - 0s 65us/step - loss: 1.3841 - acc: 0.7159 - val_loss: 1.4076 - val_acc: 0.6950\n",
      "Epoch 108/120\n",
      "7500/7500 [==============================] - 0s 64us/step - loss: 1.3792 - acc: 0.7164 - val_loss: 1.4008 - val_acc: 0.6990\n",
      "Epoch 109/120\n",
      "7500/7500 [==============================] - 0s 65us/step - loss: 1.3743 - acc: 0.7168 - val_loss: 1.3986 - val_acc: 0.6960\n",
      "Epoch 110/120\n",
      "7500/7500 [==============================] - 0s 65us/step - loss: 1.3695 - acc: 0.7169 - val_loss: 1.3932 - val_acc: 0.6970\n",
      "Epoch 111/120\n",
      "7500/7500 [==============================] - 0s 65us/step - loss: 1.3642 - acc: 0.7175 - val_loss: 1.3870 - val_acc: 0.6980\n",
      "Epoch 112/120\n",
      "7500/7500 [==============================] - 1s 68us/step - loss: 1.3609 - acc: 0.7167 - val_loss: 1.3851 - val_acc: 0.6990\n",
      "Epoch 113/120\n",
      "7500/7500 [==============================] - 0s 63us/step - loss: 1.3554 - acc: 0.7168 - val_loss: 1.3774 - val_acc: 0.7000\n",
      "Epoch 114/120\n",
      "7500/7500 [==============================] - 0s 65us/step - loss: 1.3513 - acc: 0.7196 - val_loss: 1.3744 - val_acc: 0.6990\n",
      "Epoch 115/120\n",
      "7500/7500 [==============================] - 0s 63us/step - loss: 1.3467 - acc: 0.7163 - val_loss: 1.3681 - val_acc: 0.7010\n",
      "Epoch 116/120\n",
      "7500/7500 [==============================] - 1s 69us/step - loss: 1.3415 - acc: 0.7189 - val_loss: 1.3634 - val_acc: 0.7000\n",
      "Epoch 117/120\n",
      "7500/7500 [==============================] - 0s 64us/step - loss: 1.3374 - acc: 0.7199 - val_loss: 1.3596 - val_acc: 0.6980\n",
      "Epoch 118/120\n",
      "7500/7500 [==============================] - 0s 66us/step - loss: 1.3328 - acc: 0.7181 - val_loss: 1.3581 - val_acc: 0.7010\n",
      "Epoch 119/120\n",
      "7500/7500 [==============================] - 0s 65us/step - loss: 1.3281 - acc: 0.7204 - val_loss: 1.3517 - val_acc: 0.7030\n"
     ]
    },
    {
     "name": "stdout",
     "output_type": "stream",
     "text": [
      "Epoch 120/120\n",
      "7500/7500 [==============================] - 1s 70us/step - loss: 1.3242 - acc: 0.7203 - val_loss: 1.3498 - val_acc: 0.7010\n"
     ]
    }
   ],
   "source": [
    "random.seed(123)\n",
    "model = models.Sequential()\n",
    "model.add(layers.Dense(50, activation='relu',kernel_regularizer=regularizers.l1(0.005), input_shape=(2000,))) #2 hidden layers\n",
    "model.add(layers.Dense(25, kernel_regularizer=regularizers.l1(0.005), activation='relu'))\n",
    "model.add(layers.Dense(7, activation='softmax'))\n",
    "\n",
    "model.compile(optimizer='SGD',\n",
    "              loss='categorical_crossentropy',\n",
    "              metrics=['accuracy'])\n",
    "\n",
    "L1_model = model.fit(train_final,\n",
    "                    label_train_final,\n",
    "                    epochs=120,\n",
    "                    batch_size=256,\n",
    "                    validation_data=(val, label_val))"
   ]
  },
  {
   "cell_type": "code",
   "execution_count": null,
   "metadata": {},
   "outputs": [
    {
     "data": {
      "image/png": "[encoded data removed]",
      "text/plain": [
       "<Figure size 432x288 with 1 Axes>"
      ]
     },
     "metadata": {
      "needs_background": "light"
     },
     "output_type": "display_data"
    }
   ],
   "source": [
    "L1_model_dict = L1_model.history\n",
    "plt.clf()\n",
    "\n",
    "acc_values = L1_model_dict['acc'] \n",
    "val_acc_values = L1_model_dict['val_acc']\n",
    "\n",
    "epochs = range(1, len(acc_values) + 1)\n",
    "plt.plot(epochs, acc_values, 'g', label='Training acc L1')\n",
    "plt.plot(epochs, val_acc_values, 'g.', label='Validation acc L1')\n",
    "plt.title('Training & validation accuracy with L1 regularization')\n",
    "plt.xlabel('Epochs')\n",
    "plt.ylabel('Loss')\n",
    "plt.legend()\n",
    "plt.show()"
   ]
  },
  {
   "cell_type": "markdown",
   "metadata": {},
   "source": [
    "Notice how The training and validation accuracy don't diverge as much as before! Unfortunately, the validation accuracy doesn't reach rates much higher than 70%. It does seem like we can still improve the model by training much longer."
   ]
  },
  {
   "cell_type": "code",
   "execution_count": null,
   "metadata": {},
   "outputs": [
    {
     "name": "stdout",
     "output_type": "stream",
     "text": [
      "Train on 7500 samples, validate on 1000 samples\n",
      "Epoch 1/1000\n",
      "7500/7500 [==============================] - 1s 114us/step - loss: 16.0237 - acc: 0.1811 - val_loss: 15.6142 - val_acc: 0.2120\n",
      "Epoch 2/1000\n",
      "7500/7500 [==============================] - 1s 68us/step - loss: 15.2641 - acc: 0.2085 - val_loss: 14.8672 - val_acc: 0.2380\n",
      "Epoch 3/1000\n",
      "7500/7500 [==============================] - 1s 69us/step - loss: 14.5267 - acc: 0.2329 - val_loss: 14.1408 - val_acc: 0.2590\n",
      "Epoch 4/1000\n",
      "7500/7500 [==============================] - 1s 68us/step - loss: 13.8089 - acc: 0.2581 - val_loss: 13.4338 - val_acc: 0.2860\n",
      "Epoch 5/1000\n",
      "7500/7500 [==============================] - 1s 69us/step - loss: 13.1099 - acc: 0.2831 - val_loss: 12.7460 - val_acc: 0.3010\n",
      "Epoch 6/1000\n",
      "7500/7500 [==============================] - 1s 67us/step - loss: 12.4301 - acc: 0.3029 - val_loss: 12.0764 - val_acc: 0.3370\n",
      "Epoch 7/1000\n",
      "7500/7500 [==============================] - 0s 65us/step - loss: 11.7695 - acc: 0.3299 - val_loss: 11.4266 - val_acc: 0.3550\n",
      "Epoch 8/1000\n",
      "7500/7500 [==============================] - 1s 67us/step - loss: 11.1295 - acc: 0.3539 - val_loss: 10.7969 - val_acc: 0.3760\n",
      "Epoch 9/1000\n",
      "7500/7500 [==============================] - 1s 67us/step - loss: 10.5095 - acc: 0.3781 - val_loss: 10.1880 - val_acc: 0.4040\n",
      "Epoch 10/1000\n",
      "7500/7500 [==============================] - 0s 66us/step - loss: 9.9106 - acc: 0.4040 - val_loss: 9.6006 - val_acc: 0.4320\n",
      "Epoch 11/1000\n",
      "7500/7500 [==============================] - 1s 67us/step - loss: 9.3331 - acc: 0.4312 - val_loss: 9.0357 - val_acc: 0.4530\n",
      "Epoch 12/1000\n",
      "7500/7500 [==============================] - 0s 66us/step - loss: 8.7779 - acc: 0.4681 - val_loss: 8.4925 - val_acc: 0.4740\n",
      "Epoch 13/1000\n",
      "7500/7500 [==============================] - 1s 69us/step - loss: 8.2440 - acc: 0.4951 - val_loss: 7.9712 - val_acc: 0.4950\n",
      "Epoch 14/1000\n",
      "7500/7500 [==============================] - 0s 66us/step - loss: 7.7328 - acc: 0.5189 - val_loss: 7.4730 - val_acc: 0.5330\n",
      "Epoch 15/1000\n",
      "7500/7500 [==============================] - 1s 67us/step - loss: 7.2447 - acc: 0.5553 - val_loss: 6.9983 - val_acc: 0.5560\n",
      "Epoch 16/1000\n",
      "7500/7500 [==============================] - 0s 66us/step - loss: 6.7793 - acc: 0.5827 - val_loss: 6.5459 - val_acc: 0.5690\n",
      "Epoch 17/1000\n",
      "7500/7500 [==============================] - 1s 70us/step - loss: 6.3369 - acc: 0.5983 - val_loss: 6.1177 - val_acc: 0.5840\n",
      "Epoch 18/1000\n",
      "7500/7500 [==============================] - 0s 66us/step - loss: 5.9175 - acc: 0.6212 - val_loss: 5.7096 - val_acc: 0.6060\n",
      "Epoch 19/1000\n",
      "7500/7500 [==============================] - 1s 68us/step - loss: 5.5203 - acc: 0.6299 - val_loss: 5.3248 - val_acc: 0.6200\n",
      "Epoch 20/1000\n",
      "7500/7500 [==============================] - 0s 66us/step - loss: 5.1461 - acc: 0.6403 - val_loss: 4.9636 - val_acc: 0.6400\n",
      "Epoch 21/1000\n",
      "7500/7500 [==============================] - 1s 67us/step - loss: 4.7950 - acc: 0.6465 - val_loss: 4.6254 - val_acc: 0.6500\n",
      "Epoch 22/1000\n",
      "7500/7500 [==============================] - 0s 65us/step - loss: 4.4675 - acc: 0.6533 - val_loss: 4.3102 - val_acc: 0.6550\n",
      "Epoch 23/1000\n",
      "7500/7500 [==============================] - 0s 66us/step - loss: 4.1616 - acc: 0.6609 - val_loss: 4.0155 - val_acc: 0.6650\n",
      "Epoch 24/1000\n",
      "7500/7500 [==============================] - 0s 65us/step - loss: 3.8780 - acc: 0.6664 - val_loss: 3.7452 - val_acc: 0.6650\n",
      "Epoch 25/1000\n",
      "7500/7500 [==============================] - 0s 64us/step - loss: 3.6166 - acc: 0.6695 - val_loss: 3.4970 - val_acc: 0.6660\n",
      "Epoch 26/1000\n",
      "7500/7500 [==============================] - 0s 65us/step - loss: 3.3771 - acc: 0.6749 - val_loss: 3.2697 - val_acc: 0.6640\n",
      "Epoch 27/1000\n",
      "7500/7500 [==============================] - 1s 68us/step - loss: 3.1592 - acc: 0.6760 - val_loss: 3.0623 - val_acc: 0.6700\n",
      "Epoch 28/1000\n",
      "7500/7500 [==============================] - 1s 68us/step - loss: 2.9630 - acc: 0.6793 - val_loss: 2.8763 - val_acc: 0.6730\n",
      "Epoch 29/1000\n",
      "3840/7500 [==============>...............] - ETA: 0s - loss: 2.8176 - acc: 0.6823"
     ]
    }
   ],
   "source": [
    "random.seed(123)\n",
    "model = models.Sequential()\n",
    "model.add(layers.Dense(50, activation='relu',kernel_regularizer=regularizers.l1(0.005), input_shape=(2000,))) #2 hidden layers\n",
    "model.add(layers.Dense(25, kernel_regularizer=regularizers.l1(0.005), activation='relu'))\n",
    "model.add(layers.Dense(7, activation='softmax'))\n",
    "\n",
    "model.compile(optimizer='SGD',\n",
    "              loss='categorical_crossentropy',\n",
    "              metrics=['accuracy'])\n",
    "\n",
    "L1_model = model.fit(train_final,\n",
    "                    label_train_final,\n",
    "                    epochs=1000,\n",
    "                    batch_size=256,\n",
    "                    validation_data=(val, label_val))"
   ]
  },
  {
   "cell_type": "code",
   "execution_count": null,
   "metadata": {},
   "outputs": [],
   "source": [
    "L1_model_dict = L1_model.history\n",
    "plt.clf()\n",
    "\n",
    "acc_values = L1_model_dict['acc'] \n",
    "val_acc_values = L1_model_dict['val_acc']\n",
    "\n",
    "epochs = range(1, len(acc_values) + 1)\n",
    "plt.plot(epochs, acc_values, 'g', label='Training acc L1')\n",
    "plt.plot(epochs, val_acc_values, 'g,', label='Validation acc L1')\n",
    "plt.title('Training & validation accuracy L2 vs regular')\n",
    "plt.xlabel('Epochs')\n",
    "plt.ylabel('Loss')\n",
    "plt.legend()\n",
    "plt.show()"
   ]
  },
  {
   "cell_type": "code",
   "execution_count": null,
   "metadata": {},
   "outputs": [],
   "source": [
    "results_train = model.evaluate(train_final, label_train_final)\n",
    "\n",
    "results_test = model.evaluate(X_test, y_test)"
   ]
  },
  {
   "cell_type": "code",
   "execution_count": null,
   "metadata": {},
   "outputs": [],
   "source": [
    "results_train"
   ]
  },
  {
   "cell_type": "code",
   "execution_count": null,
   "metadata": {},
   "outputs": [],
   "source": [
    "results_test"
   ]
  },
  {
   "cell_type": "markdown",
   "metadata": {},
   "source": [
    "This is about the best we've seen so far, but we were training for quite a while! Let's see if dropout regularization can do even better and/or be more efficient!"
   ]
  },
  {
   "cell_type": "markdown",
   "metadata": {},
   "source": [
    "## Dropout Regularization"
   ]
  },
  {
   "cell_type": "code",
   "execution_count": null,
   "metadata": {},
   "outputs": [],
   "source": [
    "random.seed(123)\n",
    "model = models.Sequential()\n",
    "model.add(layers.Dropout(0.3, input_shape=(2000,)))\n",
    "model.add(layers.Dense(50, activation='relu')) #2 hidden layers\n",
    "model.add(layers.Dropout(0.3))\n",
    "model.add(layers.Dense(25, activation='relu'))\n",
    "model.add(layers.Dropout(0.3))\n",
    "model.add(layers.Dense(7, activation='softmax'))\n",
    "\n",
    "model.compile(optimizer='SGD',\n",
    "              loss='categorical_crossentropy',\n",
    "              metrics=['accuracy'])\n",
    "\n",
    "dropout_model = model.fit(train_final,\n",
    "                    label_train_final,\n",
    "                    epochs=200,\n",
    "                    batch_size=256,\n",
    "                    validation_data=(val, label_val))"
   ]
  },
  {
   "cell_type": "code",
   "execution_count": null,
   "metadata": {
    "scrolled": true
   },
   "outputs": [],
   "source": [
    "results_train = model.evaluate(train_final, label_train_final)\n",
    "results_test = model.evaluate(X_test, y_test)"
   ]
  },
  {
   "cell_type": "code",
   "execution_count": null,
   "metadata": {},
   "outputs": [],
   "source": [
    "results_train"
   ]
  },
  {
   "cell_type": "code",
   "execution_count": null,
   "metadata": {},
   "outputs": [],
   "source": [
    "results_test"
   ]
  },
  {
   "cell_type": "markdown",
   "metadata": {},
   "source": [
    "You can see here that the validation performance has improved again! the variance did become higher again compared to L1-regularization."
   ]
  },
  {
   "cell_type": "markdown",
   "metadata": {},
   "source": [
    "## Bigger Data?"
   ]
  },
  {
   "cell_type": "markdown",
   "metadata": {},
   "source": [
    "In the lecture, one of the solutions to high variance was just getting more data. We actually *have* more data, but took a subset of 10,000 units before. Let's now quadruple our data set, and see what happens. Note that we are really just lucky here, and getting more data isn't always possible, but this is a useful exercise in order to understand the power of big data sets."
   ]
  },
  {
   "cell_type": "code",
   "execution_count": null,
   "metadata": {},
   "outputs": [],
   "source": [
    "df = pd.read_csv('Bank_complaints.csv')\n",
    "random.seed(123)\n",
    "df = df.sample(40000)\n",
    "df.index = range(40000)\n",
    "product = df[\"Product\"]\n",
    "complaints = df[\"Consumer complaint narrative\"]\n",
    "\n",
    "#one-hot encoding of the complaints\n",
    "tokenizer = Tokenizer(num_words=2000)\n",
    "tokenizer.fit_on_texts(complaints)\n",
    "sequences = tokenizer.texts_to_sequences(complaints)\n",
    "one_hot_results= tokenizer.texts_to_matrix(complaints, mode='binary')\n",
    "word_index = tokenizer.word_index\n",
    "np.shape(one_hot_results)\n",
    "\n",
    "#one-hot encoding of products\n",
    "le = preprocessing.LabelEncoder()\n",
    "le.fit(product)\n",
    "list(le.classes_)\n",
    "product_cat = le.transform(product) \n",
    "product_onehot = to_categorical(product_cat)\n",
    "\n",
    "# train test split\n",
    "test_index = random.sample(range(1,40000), 4000)\n",
    "test = one_hot_results[test_index]\n",
    "train = np.delete(one_hot_results, test_index, 0)\n",
    "label_test = product_onehot[test_index]\n",
    "label_train = np.delete(product_onehot, test_index, 0)\n",
    "\n",
    "#Validation set\n",
    "random.seed(123)\n",
    "val = train[:3000]\n",
    "train_final = train[3000:]\n",
    "label_val = label_train[:3000]\n",
    "label_train_final = label_train[3000:]"
   ]
  },
  {
   "cell_type": "code",
   "execution_count": null,
   "metadata": {},
   "outputs": [],
   "source": [
    "random.seed(123)\n",
    "model = models.Sequential()\n",
    "model.add(layers.Dense(50, activation='relu', input_shape=(2000,))) #2 hidden layers\n",
    "model.add(layers.Dense(25, activation='relu'))\n",
    "model.add(layers.Dense(7, activation='softmax'))\n",
    "\n",
    "model.compile(optimizer='SGD',\n",
    "              loss='categorical_crossentropy',\n",
    "              metrics=['accuracy'])\n",
    "\n",
    "moredata_model = model.fit(train_final,\n",
    "                    label_train_final,\n",
    "                    epochs=120,\n",
    "                    batch_size=256,\n",
    "                    validation_data=(val, label_val))"
   ]
  },
  {
   "cell_type": "code",
   "execution_count": null,
   "metadata": {},
   "outputs": [],
   "source": [
    "results_train = model.evaluate(train_final, label_train_final)\n",
    "results_test = model.evaluate(test, label_test)"
   ]
  },
  {
   "cell_type": "code",
   "execution_count": null,
   "metadata": {},
   "outputs": [],
   "source": [
    "results_train"
   ]
  },
  {
   "cell_type": "code",
   "execution_count": null,
   "metadata": {},
   "outputs": [],
   "source": [
    "results_test"
   ]
  },
  {
   "cell_type": "markdown",
   "metadata": {},
   "source": [
    "With the same amount of epochs, we were able to get a fairly similar validation accuracy of 89.67 (compared to 88.55 in obtained in the first model in this lab). Our test set accuracy went up from 75.8 to a staggering 80.225% though, without any other regularization technique. You can still consider early stopping, L1, L2 and dropout here. It's clear that having more data has a strong impact on model performance!"
   ]
  },
  {
   "cell_type": "markdown",
   "metadata": {},
   "source": [
    "## Additional Resources\n",
    "\n",
    "* https://github.com/susanli2016/Machine-Learning-with-Python/blob/master/Consumer_complaints.ipynb\n",
    "* https://machinelearningmastery.com/dropout-regularization-deep-learning-models-keras/\n",
    "* https://catalog.data.gov/dataset/consumer-complaint-database"
   ]
  },
  {
   "cell_type": "markdown",
   "metadata": {},
   "source": [
    "## Summary  \n",
    "\n",
    "In this lesson, we not only built an initial deep-learning model, we then used a validation set to tune our model using various types of regularization. From here, we'll continue to describe more practice and theory regarding tuning and optimizing deep-learning networks."
   ]
  }
 ],
 "metadata": {
  "kernelspec": {
   "display_name": "learn-env",
   "language": "python",
   "name": "learn-env"
  },
  "language_info": {
   "codemirror_mode": {
    "name": "ipython",
    "version": 3
   },
   "file_extension": ".py",
   "mimetype": "text/x-python",
   "name": "python",
   "nbconvert_exporter": "python",
   "pygments_lexer": "ipython3",
   "version": "3.6.7"
  }
 },
 "nbformat": 4,
 "nbformat_minor": 2
}
